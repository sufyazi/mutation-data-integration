{
 "cells": [
  {
   "cell_type": "markdown",
   "id": "caee4a02-3d2c-4fad-97e5-8965532f4da2",
   "metadata": {
    "editable": true,
    "tags": [
     "editable"
    ]
   },
   "source": [
    "# gnomAD"
   ]
  },
  {
   "cell_type": "markdown",
   "id": "2519592c-8217-4c44-bad7-7eca012869d2",
   "metadata": {
    "editable": false,
    "tags": [
     "editable"
    ]
   },
   "source": [
    "## Description"
   ]
  },
  {
   "cell_type": "markdown",
   "id": "cc49f5b7-6d33-406a-9ec2-2231a6cafe05",
   "metadata": {
    "editable": true,
    "tags": [
     "editable"
    ]
   },
   "source": [
    "https://gnomad.broadinstitute.org/downloads"
   ]
  },
  {
   "cell_type": "markdown",
   "id": "65970223-2355-4845-90fc-22945ed33e22",
   "metadata": {
    "tags": []
   },
   "source": [
    "# Register dataShop [env:bashtools]"
   ]
  },
  {
   "cell_type": "markdown",
   "id": "4d579a64-4cd1-498c-9886-cf1f869868bf",
   "metadata": {
    "editable": false,
    "tags": []
   },
   "source": [
    "## Verifications"
   ]
  },
  {
   "cell_type": "code",
   "execution_count": 1,
   "id": "341fce34-e5b1-4994-b32e-1cac8a5f366e",
   "metadata": {
    "editable": false,
    "tags": []
   },
   "outputs": [
    {
     "name": "stdout",
     "output_type": "stream",
     "text": [
      "dataShop location\n",
      "/hyperion/databank/booth/jmcarter/sub.gnomAD\n",
      "repository status\n",
      "Filesystem      Size  Used Avail Use% Mounted on\n",
      "/dev/sdl2        82T  4.2T   78T   6% /hyperion\n",
      "dataShop size\n",
      "33K\t.\n",
      "Groups you belong to\n",
      "jmcarter datascigroup\n"
     ]
    }
   ],
   "source": [
    "echo \"dataShop location\"\n",
    "pwd\n",
    "echo \"repository status\"\n",
    "df -h .\n",
    "echo \"dataShop size\"\n",
    "du -sh .\n",
    "echo \"Groups you belong to\"\n",
    "groups"
   ]
  },
  {
   "cell_type": "markdown",
   "id": "309531bc-c927-449d-8b41-893d5fa5e8ca",
   "metadata": {
    "editable": false,
    "tags": []
   },
   "source": [
    "## Input metadata"
   ]
  },
  {
   "cell_type": "markdown",
   "id": "0835e4aa-4f4b-423f-a390-daa20822cd29",
   "metadata": {
    "editable": false,
    "tags": []
   },
   "source": [
    "In the next cell:\n",
    "1. Enter a **Memorable Description**. No spaces or special characters allowed!\n",
    "2. Enter a **Version Number** 0-100, if you are making changes to an existing dataShop.\n",
    "3. Enter the **Permission Group** to grant access privileges, please check with admin if uncertain.\n",
    "4. Enter the appropriate **Access Level** for your data (1, 2, 3 or 4)."
   ]
  },
  {
   "cell_type": "code",
   "execution_count": 2,
   "id": "b48fbaa5-2c01-45f2-b7a1-f7eab5e341f5",
   "metadata": {
    "tags": []
   },
   "outputs": [],
   "source": [
    "#dataShop permissions\n",
    "shdesc=\"gnomAD\" #no spaces, only underscores allowed.\n",
    "versid=0 #0-100\n",
    "accgrp=datascigroup #input Permission Group with access privileges\n",
    "acclvl=1 #1:OPEN/2:RESTRICTED/3:CONFIDENTIAL/4:CLASSIFIED"
   ]
  },
  {
   "cell_type": "markdown",
   "id": "39f299fe-5539-4e87-aa5f-28a5bac7436c",
   "metadata": {
    "editable": false,
    "tags": []
   },
   "source": [
    "5. **Run** the next cell to register and set appropriate dataShop permissions"
   ]
  },
  {
   "cell_type": "code",
   "execution_count": 3,
   "id": "a89b6100-2cdc-4398-b0c6-b50e7f80b356",
   "metadata": {
    "editable": false,
    "tags": []
   },
   "outputs": [
    {
     "name": "stdout",
     "output_type": "stream",
     "text": [
      "User `jmcarter' belongs to group `datascigroup'\n",
      "Classification Level 1: OPEN\n",
      "Enabling access for Others on sub.gnomAD\n",
      "Enabling access for datascigroup on sub.gnomAD\n",
      "Building dataShop RK1S79 version 0 at sub.gnomAD\n",
      "total 36\n",
      "drwxrwxr-x 1 jmcarter jmcarter     0 Oct 20 18:38 \u001b[0m\u001b[01;34mdepo\u001b[0m\n",
      "lrwxrwxrwx 1 jmcarter jmcarter    12 Oct 20 18:38 \u001b[01;36mexpo\u001b[0m -> \u001b[01;34mreco/v0/expo\u001b[0m\n",
      "lrwxrwxrwx 1 jmcarter jmcarter    12 Oct 20 18:38 \u001b[01;36mimpo\u001b[0m -> \u001b[01;34mreco/v0/impo\u001b[0m\n",
      "lrwxrwxrwx 1 jmcarter jmcarter    12 Oct 20 18:38 \u001b[01;36mlogs\u001b[0m -> \u001b[01;34mreco/v0/logs\u001b[0m\n",
      "lrwxrwxrwx 1 jmcarter jmcarter    12 Oct 20 18:38 \u001b[01;36mplot\u001b[0m -> \u001b[01;34mreco/v0/plot\u001b[0m\n",
      "lrwxrwxrwx 1 jmcarter jmcarter    12 Oct 20 18:38 \u001b[01;36mprod\u001b[0m -> \u001b[01;34mreco/v0/prod\u001b[0m\n",
      "drwxrwxr-x 1 jmcarter jmcarter   136 Oct 20 18:38 \u001b[01;34mreco\u001b[0m\n",
      "lrwxrwxrwx 1 jmcarter jmcarter    12 Oct 20 18:38 \u001b[01;36mreqs\u001b[0m -> \u001b[01;34mreco/v0/reqs\u001b[0m\n",
      "lrwxrwxrwx 1 jmcarter jmcarter    12 Oct 20 18:38 \u001b[01;36mtemp\u001b[0m -> \u001b[01;34mreco/v0/temp\u001b[0m\n",
      "-rw-rw-r-- 1 jmcarter jmcarter 14614 Oct 20 18:37 Untitled.ipynb\n",
      "Registering dataShop\n",
      "This dataShop (v0) can be accessed at:\n",
      "/data/shop/accRK1S79.jmcarter/v0\n"
     ]
    }
   ],
   "source": [
    "#configure dataShop\n",
    "lockfile=\"shop.data\"\n",
    "foldnm=\"$(basename $PWD)\" #folder name\n",
    "if [[ -f \"$lockfile\" ]]; then\n",
    "    echo \"Previous dataShop configuration detected\"\n",
    "    cat $lockfile\n",
    "    echo \"\"\n",
    "    read -r shopid iversid iauthor ishdesc iaccgrp iacclvl < $lockfile\n",
    "    if [[ -z \"$versid\" ]]; then versid=$iversid ; fi\n",
    "    if [[ -z \"$shdesc\" ]]; then shdesc=$ishdesc ; fi\n",
    "    if [[ -z \"$accgrp\" ]]; then accgrp=$iaccgrp ; fi\n",
    "    if [[ -z \"$acclvl\" ]]; then acclvl=$iacclvl ; fi\n",
    "else\n",
    "    epoch=$(date \"+%s\")\n",
    "    b36arr=(0 1 2 3 4 5 6 7 8 9 A B C D E F G H I J K L M N O P Q R S T U V W X Y Z)\n",
    "    shopid=$(for i in $(echo \"obase=36; $epoch\"| bc); do echo -n ${b36arr[${i#0}]}; done)\n",
    "fi\n",
    "#sanitize variables\n",
    "acclvl=${acclvl//[!1-4]/}\n",
    "accgrp=${accgrp//[^[:alnum:]_]/}\n",
    "versid=${versid//[!0-9]/}\n",
    "shdesc=${shdesc//[^[:alnum:]_]/}\n",
    "#setting permissions and lock file\n",
    "if [[ -z \"$accgrp\" || -z \"$acclvl\" || -z \"$shopid\" || -z \"$versid\" || -z \"$shdesc\" ]]\n",
    "then\n",
    "    echo \"Metadata missing or failed checks, please set appropriately\"\n",
    "else\n",
    "    if id -nGz \"$USER\" | grep -qzxF \"$accgrp\" \n",
    "    then\n",
    "        echo User \\`$USER\\' belongs to group \\`$accgrp\\'\n",
    "        case $acclvl in\n",
    "        1)\n",
    "            echo \"Classification Level 1: OPEN\"\n",
    "            echo \"Enabling access for Others on ${foldnm}\"\n",
    "            echo \"Enabling access for ${accgrp} on ${foldnm}\"\n",
    "            chmod go=rx $PWD\n",
    "            chgrp $accgrp $PWD\n",
    "            ;;\n",
    "        2 | 3 | 4)\n",
    "            echo \"Classification Level ${acclvl}: RESTRICTED\"\n",
    "            echo \"Disabling access for Others on ${foldnm}\"\n",
    "            echo \"Enabling access for ${accgrp} on ${foldnm}\"\n",
    "            chmod g=rx,o= $PWD\n",
    "            chgrp $accgrp $PWD\n",
    "            ;;\n",
    "        *)\n",
    "            echo \"Classification Level ${acclvl}: INVALID\"\n",
    "            echo \"Please specify a correct classification level\"\n",
    "            return\n",
    "            ;;\n",
    "        esac\n",
    "        echo \"Building dataShop ${shopid} version ${versid} at ${foldnm}\"\n",
    "        mkdir -p depo #new files received that cannot be imported\n",
    "        mkdir -p reco #record datashop versions here\n",
    "        mkdir -p \"reco/v${versid}/reqs\" #requirements to run (new environment)\n",
    "        mkdir -p \"reco/v${versid}/impo\" #importable local files\n",
    "        mkdir -p \"reco/v${versid}/expo\" #deposited/generated files shared externally\n",
    "        mkdir -p \"reco/v${versid}/temp\" #temporary storage\n",
    "        mkdir -p \"reco/v${versid}/prod\" #data output folder\n",
    "        mkdir -p \"reco/v${versid}/logs\" #output logs folder\n",
    "        mkdir -p \"reco/v${versid}/plot\" #figure output folder\n",
    "        ln -frsn depo \"reco/v${versid}/depo\"\n",
    "        ln -frsn \"reco/v${versid}/reqs\" reqs\n",
    "        ln -frsn \"reco/v${versid}/impo\" impo\n",
    "        ln -frsn \"reco/v${versid}/expo\" expo\n",
    "        ln -frsn \"reco/v${versid}/temp\" temp\n",
    "        ln -frsn \"reco/v${versid}/prod\" prod\n",
    "        ln -frsn \"reco/v${versid}/logs\" logs\n",
    "        ln -frsn \"reco/v${versid}/plot\" plot\n",
    "        ls -l\n",
    "        echo \"Registering dataShop\"\n",
    "        printf \"${shopid} ${versid} ${USER} ${shdesc} ${accgrp} ${acclvl}\" > $lockfile\n",
    "        echo \"This dataShop (v${versid}) can be accessed at:\"\n",
    "        echo \"/data/shop/acc${shopid}.${USER}/v${versid}\"\n",
    "        datamall=\"/data/mall/${USER}/acc${shopid}\"\n",
    "        datashop=\"/data/shop/acc${shopid}.${USER}\"\n",
    "        ln -fsn \"${PWD}/reco\" \"$datamall\"\n",
    "        ln -fsn \"$datamall\" \"$datashop\"\n",
    "    else\n",
    "        echo User \\`$USER\\' does not belong to group \\`$accgrp\\'\n",
    "        echo Ensure correct spelling and consult your administrator.\n",
    "    fi\n",
    "fi"
   ]
  },
  {
   "cell_type": "code",
   "execution_count": 1,
   "id": "574a294e-a7e1-40e0-9a69-84db95fcaa59",
   "metadata": {
    "tags": []
   },
   "outputs": [],
   "source": [
    "ln -rs RK1S79.gnomAD.ipynb reco/v0/"
   ]
  },
  {
   "cell_type": "markdown",
   "id": "9a214f05-b875-4325-9339-f8e61c251c03",
   "metadata": {
    "editable": false,
    "tags": []
   },
   "source": [
    "## Requirements"
   ]
  },
  {
   "cell_type": "markdown",
   "id": "071e8101-8df0-49b6-929d-68cb57f98e8a",
   "metadata": {
    "editable": false,
    "tags": []
   },
   "source": [
    "Use `conda env export > reqs/custom_env.yml` or `conda list --explicit > reqs/custom_env.txt` to save information about required tools to re-run dataShop."
   ]
  },
  {
   "cell_type": "code",
   "execution_count": null,
   "id": "722d44d0-400c-44e9-8eac-4ef767fada04",
   "metadata": {},
   "outputs": [],
   "source": [
    "conda env export > reqs/custom_env.yml"
   ]
  },
  {
   "cell_type": "code",
   "execution_count": 80,
   "id": "33d4d5a3-2b57-4756-a36a-efd957189a1b",
   "metadata": {
    "editable": false,
    "tags": []
   },
   "outputs": [
    {
     "name": "stdout",
     "output_type": "stream",
     "text": [
      "ls: cannot access 'reqs': No such file or directory\n"
     ]
    },
    {
     "ename": "",
     "evalue": "2",
     "output_type": "error",
     "traceback": []
    }
   ],
   "source": [
    "ls -l reqs"
   ]
  },
  {
   "cell_type": "markdown",
   "id": "70f9c2eb-27df-4a5f-bf3e-32092c072bb4",
   "metadata": {
    "editable": false,
    "tags": []
   },
   "source": [
    "## Deposits\n",
    "Deposit any new data in the `depo` folder. Use `rsync` or Grsync (GUI version)."
   ]
  },
  {
   "cell_type": "code",
   "execution_count": 4,
   "id": "a7fad772-df9f-46d0-a111-1dcda776afe6",
   "metadata": {
    "tags": []
   },
   "outputs": [
    {
     "name": "stdout",
     "output_type": "stream",
     "text": [
      "--2022-10-31 14:24:55--  https://storage.googleapis.com/gcp-public-data--gnomad/release/3.1.2/vcf/genomes/gnomad.genomes.v3.1.2.sites.chr4.vcf.bgz\n",
      "Resolving storage.googleapis.com (storage.googleapis.com)... 142.251.10.128, 142.251.12.128, 74.125.200.128, ...\n",
      "Connecting to storage.googleapis.com (storage.googleapis.com)|142.251.10.128|:443... connected.\n",
      "HTTP request sent, awaiting response... 200 OK\n",
      "Length: 163327599361 (152G) [application/octet-stream]\n",
      "Saving to: ‘depo/gnomad.genomes.v3.1.2.sites.chr4.vcf.bgz’\n",
      "\n",
      "depo/gnomad.genomes 100%[===================>] 152.11G  39.8MB/s    in 73m 16s \n",
      "\n",
      "2022-10-31 15:38:14 (35.4 MB/s) - ‘depo/gnomad.genomes.v3.1.2.sites.chr4.vcf.bgz’ saved [163327599361/163327599361]\n",
      "\n"
     ]
    }
   ],
   "source": [
    "wget -O depo/gnomad.genomes.v3.1.2.sites.chr4.vcf.bgz \"https://storage.googleapis.com/gcp-public-data--gnomad/release/3.1.2/vcf/genomes/gnomad.genomes.v3.1.2.sites.chr4.vcf.bgz\""
   ]
  },
  {
   "cell_type": "code",
   "execution_count": 3,
   "id": "ee56bbff-f053-490a-bf81-1e10fba1a0e1",
   "metadata": {
    "tags": []
   },
   "outputs": [
    {
     "name": "stdout",
     "output_type": "stream",
     "text": [
      "--2022-10-31 13:43:10--  https://storage.googleapis.com/gcp-public-data--gnomad/release/3.1.2/vcf/genomes/gnomad.genomes.v3.1.2.sites.chr9.vcf.bgz\n",
      "Resolving storage.googleapis.com (storage.googleapis.com)... 142.250.4.128, 74.125.24.128, 142.251.10.128, ...\n",
      "Connecting to storage.googleapis.com (storage.googleapis.com)|142.250.4.128|:443... connected.\n",
      "HTTP request sent, awaiting response... 200 OK\n",
      "Length: 110733327638 (103G) [application/octet-stream]\n",
      "Saving to: ‘depo/gnomad.genomes.v3.1.2.sites.chr9.vcf.bgz’\n",
      "\n",
      "depo/gnomad.genomes 100%[===================>] 103.13G  36.8MB/s    in 41m 44s \n",
      "\n",
      "2022-10-31 14:24:55 (42.2 MB/s) - ‘depo/gnomad.genomes.v3.1.2.sites.chr9.vcf.bgz’ saved [110733327638/110733327638]\n",
      "\n"
     ]
    }
   ],
   "source": [
    "wget -O depo/gnomad.genomes.v3.1.2.sites.chr9.vcf.bgz \"https://storage.googleapis.com/gcp-public-data--gnomad/release/3.1.2/vcf/genomes/gnomad.genomes.v3.1.2.sites.chr9.vcf.bgz\""
   ]
  },
  {
   "cell_type": "code",
   "execution_count": 5,
   "id": "367ecdf1-89b7-4dd8-928f-f25410d95a5a",
   "metadata": {
    "tags": []
   },
   "outputs": [
    {
     "name": "stdout",
     "output_type": "stream",
     "text": [
      "--2022-10-31 15:38:14--  https://storage.googleapis.com/gcp-public-data--gnomad/release/3.1.2/vcf/genomes/gnomad.genomes.v3.1.2.sites.chr10.vcf.bgz\n",
      "Resolving storage.googleapis.com (storage.googleapis.com)... 74.125.24.128, 142.251.10.128, 142.251.12.128, ...\n",
      "Connecting to storage.googleapis.com (storage.googleapis.com)|74.125.24.128|:443... connected.\n",
      "HTTP request sent, awaiting response... 200 OK\n",
      "Length: 117914739898 (110G) [application/octet-stream]\n",
      "Saving to: ‘depo/gnomad.genomes.v3.1.2.sites.chr10.vcf.bgz’\n",
      "\n",
      "depo/gnomad.genomes 100%[===================>] 109.82G  42.5MB/s    in 45m 35s \n",
      "\n",
      "2022-10-31 16:23:50 (41.1 MB/s) - ‘depo/gnomad.genomes.v3.1.2.sites.chr10.vcf.bgz’ saved [117914739898/117914739898]\n",
      "\n"
     ]
    }
   ],
   "source": [
    "wget -O depo/gnomad.genomes.v3.1.2.sites.chr10.vcf.bgz \"https://storage.googleapis.com/gcp-public-data--gnomad/release/3.1.2/vcf/genomes/gnomad.genomes.v3.1.2.sites.chr10.vcf.bgz\""
   ]
  },
  {
   "cell_type": "code",
   "execution_count": 6,
   "id": "a38508ac-871b-48ba-bacc-add5ee7f52b0",
   "metadata": {
    "tags": []
   },
   "outputs": [
    {
     "name": "stdout",
     "output_type": "stream",
     "text": [
      "--2022-10-31 16:23:50--  https://storage.googleapis.com/gcp-public-data--gnomad/release/3.1.2/vcf/genomes/gnomad.genomes.v3.1.2.sites.chr11.vcf.bgz\n",
      "Resolving storage.googleapis.com (storage.googleapis.com)... 74.125.24.128, 142.251.10.128, 142.251.12.128, ...\n",
      "Connecting to storage.googleapis.com (storage.googleapis.com)|74.125.24.128|:443... connected.\n",
      "HTTP request sent, awaiting response... 200 OK\n",
      "Length: 116325219774 (108G) [application/octet-stream]\n",
      "Saving to: ‘depo/gnomad.genomes.v3.1.2.sites.chr11.vcf.bgz’\n",
      "\n",
      "depo/gnomad.genomes 100%[===================>] 108.34G  12.7MB/s    in 46m 6s  \n",
      "\n",
      "2022-10-31 17:09:58 (40.1 MB/s) - ‘depo/gnomad.genomes.v3.1.2.sites.chr11.vcf.bgz’ saved [116325219774/116325219774]\n",
      "\n"
     ]
    }
   ],
   "source": [
    "wget -O depo/gnomad.genomes.v3.1.2.sites.chr11.vcf.bgz \"https://storage.googleapis.com/gcp-public-data--gnomad/release/3.1.2/vcf/genomes/gnomad.genomes.v3.1.2.sites.chr11.vcf.bgz\""
   ]
  },
  {
   "cell_type": "code",
   "execution_count": 7,
   "id": "5a58e7c2-fae8-43a0-a0b8-76a9dafdf8af",
   "metadata": {
    "tags": []
   },
   "outputs": [
    {
     "name": "stdout",
     "output_type": "stream",
     "text": [
      "--2022-10-31 17:09:58--  https://storage.googleapis.com/gcp-public-data--gnomad/release/3.1.2/vcf/genomes/gnomad.genomes.v3.1.2.sites.chr12.vcf.bgz\n",
      "Resolving storage.googleapis.com (storage.googleapis.com)... 74.125.24.128, 142.251.10.128, 142.251.12.128, ...\n",
      "Connecting to storage.googleapis.com (storage.googleapis.com)|74.125.24.128|:443... connected.\n",
      "HTTP request sent, awaiting response... 200 OK\n",
      "Length: 114042301500 (106G) [application/octet-stream]\n",
      "Saving to: ‘depo/gnomad.genomes.v3.1.2.sites.chr12.vcf.bgz’\n",
      "\n",
      "depo/gnomad.genomes 100%[===================>] 106.21G  47.7MB/s    in 45m 13s \n",
      "\n",
      "2022-10-31 17:55:12 (40.1 MB/s) - ‘depo/gnomad.genomes.v3.1.2.sites.chr12.vcf.bgz’ saved [114042301500/114042301500]\n",
      "\n"
     ]
    }
   ],
   "source": [
    "wget -O depo/gnomad.genomes.v3.1.2.sites.chr12.vcf.bgz \"https://storage.googleapis.com/gcp-public-data--gnomad/release/3.1.2/vcf/genomes/gnomad.genomes.v3.1.2.sites.chr12.vcf.bgz\""
   ]
  },
  {
   "cell_type": "code",
   "execution_count": 4,
   "id": "59ade28b-7654-4226-8065-dfcb8e9d1641",
   "metadata": {},
   "outputs": [
    {
     "name": "stdout",
     "output_type": "stream",
     "text": [
      "--2022-10-20 18:39:42--  https://storage.googleapis.com/gcp-public-data--gnomad/release/3.1.2/vcf/genomes/gnomad.genomes.v3.1.2.sites.chr14.vcf.bgz\n",
      "Resolving storage.googleapis.com (storage.googleapis.com)... 74.125.200.128, 74.125.68.128, 142.250.4.128, ...\n",
      "Connecting to storage.googleapis.com (storage.googleapis.com)|74.125.200.128|:443... connected.\n",
      "HTTP request sent, awaiting response... 200 OK\n",
      "Length: 78504248952 (73G) [application/octet-stream]\n",
      "Saving to: ‘depo/gnomad.genomes.v3.1.2.sites.chr14.vcf.bgz’\n",
      "\n",
      "depo/gnomad.genomes 100%[===================>]  73.11G  53.4MB/s    in 28m 32s \n",
      "\n",
      "2022-10-20 19:08:15 (43.7 MB/s) - ‘depo/gnomad.genomes.v3.1.2.sites.chr14.vcf.bgz’ saved [78504248952/78504248952]\n",
      "\n"
     ]
    }
   ],
   "source": [
    "wget -O depo/gnomad.genomes.v3.1.2.sites.chr14.vcf.bgz \"https://storage.googleapis.com/gcp-public-data--gnomad/release/3.1.2/vcf/genomes/gnomad.genomes.v3.1.2.sites.chr14.vcf.bgz\""
   ]
  },
  {
   "cell_type": "code",
   "execution_count": 8,
   "id": "1ca24336-1295-4851-8a6a-0de4c3172b5c",
   "metadata": {
    "tags": []
   },
   "outputs": [
    {
     "name": "stdout",
     "output_type": "stream",
     "text": [
      "--2022-10-31 17:55:13--  https://storage.googleapis.com/gcp-public-data--gnomad/release/3.1.2/vcf/genomes/gnomad.genomes.v3.1.2.sites.chr16.vcf.bgz\n",
      "Resolving storage.googleapis.com (storage.googleapis.com)... 142.251.12.128, 74.125.68.128, 142.250.4.128, ...\n",
      "Connecting to storage.googleapis.com (storage.googleapis.com)|142.251.12.128|:443... connected.\n",
      "HTTP request sent, awaiting response... 200 OK\n",
      "Length: 82406068224 (77G) [application/octet-stream]\n",
      "Saving to: ‘depo/gnomad.genomes.v3.1.2.sites.chr16.vcf.bgz’\n",
      "\n",
      "depo/gnomad.genomes 100%[===================>]  76.75G  41.4MB/s    in 35m 33s \n",
      "\n",
      "2022-10-31 18:30:47 (36.8 MB/s) - ‘depo/gnomad.genomes.v3.1.2.sites.chr16.vcf.bgz’ saved [82406068224/82406068224]\n",
      "\n"
     ]
    }
   ],
   "source": [
    "wget -O depo/gnomad.genomes.v3.1.2.sites.chr16.vcf.bgz \"https://storage.googleapis.com/gcp-public-data--gnomad/release/3.1.2/vcf/genomes/gnomad.genomes.v3.1.2.sites.chr16.vcf.bgz\""
   ]
  },
  {
   "cell_type": "code",
   "execution_count": 9,
   "id": "ee9e3fbc-b90e-4bca-81b3-dc8d58ab0075",
   "metadata": {
    "tags": []
   },
   "outputs": [
    {
     "name": "stdout",
     "output_type": "stream",
     "text": [
      "--2022-10-31 18:30:47--  https://storage.googleapis.com/gcp-public-data--gnomad/release/3.1.2/vcf/genomes/gnomad.genomes.v3.1.2.sites.chr17.vcf.bgz\n",
      "Resolving storage.googleapis.com (storage.googleapis.com)... 142.250.4.128, 74.125.24.128, 142.251.10.128, ...\n",
      "Connecting to storage.googleapis.com (storage.googleapis.com)|142.250.4.128|:443... connected.\n",
      "HTTP request sent, awaiting response... 200 OK\n",
      "Length: 73832366577 (69G) [application/octet-stream]\n",
      "Saving to: ‘depo/gnomad.genomes.v3.1.2.sites.chr17.vcf.bgz’\n",
      "\n",
      "depo/gnomad.genomes 100%[===================>]  68.76G  45.1MB/s    in 30m 6s  \n",
      "\n",
      "2022-10-31 19:00:55 (39.0 MB/s) - ‘depo/gnomad.genomes.v3.1.2.sites.chr17.vcf.bgz’ saved [73832366577/73832366577]\n",
      "\n"
     ]
    }
   ],
   "source": [
    "wget -O depo/gnomad.genomes.v3.1.2.sites.chr17.vcf.bgz \"https://storage.googleapis.com/gcp-public-data--gnomad/release/3.1.2/vcf/genomes/gnomad.genomes.v3.1.2.sites.chr17.vcf.bgz\""
   ]
  },
  {
   "cell_type": "code",
   "execution_count": 10,
   "id": "fe51d1b8-cf20-4539-b0e3-7ad3ac35a7fe",
   "metadata": {
    "tags": []
   },
   "outputs": [
    {
     "name": "stdout",
     "output_type": "stream",
     "text": [
      "--2022-10-31 19:00:55--  https://storage.googleapis.com/gcp-public-data--gnomad/release/3.1.2/vcf/genomes/gnomad.genomes.v3.1.2.sites.chr20.vcf.bgz\n",
      "Resolving storage.googleapis.com (storage.googleapis.com)... 142.251.10.128, 142.251.12.128, 74.125.200.128, ...\n",
      "Connecting to storage.googleapis.com (storage.googleapis.com)|142.251.10.128|:443... connected.\n",
      "HTTP request sent, awaiting response... 200 OK\n",
      "Length: 53285996839 (50G) [application/octet-stream]\n",
      "Saving to: ‘depo/gnomad.genomes.v3.1.2.sites.chr20.vcf.bgz’\n",
      "\n",
      "depo/gnomad.genomes 100%[===================>]  49.63G  19.8MB/s    in 25m 15s \n",
      "\n",
      "2022-10-31 19:26:12 (33.5 MB/s) - ‘depo/gnomad.genomes.v3.1.2.sites.chr20.vcf.bgz’ saved [53285996839/53285996839]\n",
      "\n"
     ]
    }
   ],
   "source": [
    "wget -O depo/gnomad.genomes.v3.1.2.sites.chr20.vcf.bgz \"https://storage.googleapis.com/gcp-public-data--gnomad/release/3.1.2/vcf/genomes/gnomad.genomes.v3.1.2.sites.chr20.vcf.bgz\""
   ]
  },
  {
   "cell_type": "code",
   "execution_count": 11,
   "id": "7d6c46a6-6055-4d5f-88de-1d161bae0bae",
   "metadata": {},
   "outputs": [
    {
     "name": "stdout",
     "output_type": "stream",
     "text": [
      "--2022-11-01 10:41:50--  https://storage.googleapis.com/gcp-public-data--gnomad/release/3.1.2/vcf/genomes/gnomad.genomes.v3.1.2.sites.chr4.vcf.bgz.tbi\n",
      "Resolving storage.googleapis.com (storage.googleapis.com)... 74.125.68.128, 142.250.4.128, 74.125.24.128, ...\n",
      "Connecting to storage.googleapis.com (storage.googleapis.com)|74.125.68.128|:443... connected.\n",
      "HTTP request sent, awaiting response... 200 OK\n",
      "Length: 204030 (199K) [application/octet-stream]\n",
      "Saving to: ‘depo/gnomad.genomes.v3.1.2.sites.chr4.vcf.bgz.tbi’\n",
      "\n",
      "depo/gnomad.genomes 100%[===================>] 199.25K  --.-KB/s    in 0.02s   \n",
      "\n",
      "2022-11-01 10:41:50 (11.7 MB/s) - ‘depo/gnomad.genomes.v3.1.2.sites.chr4.vcf.bgz.tbi’ saved [204030/204030]\n",
      "\n"
     ]
    }
   ],
   "source": [
    "wget -O depo/gnomad.genomes.v3.1.2.sites.chr4.vcf.bgz.tbi \\\n",
    "\"https://storage.googleapis.com/gcp-public-data--gnomad/release/3.1.2/vcf/genomes/gnomad.genomes.v3.1.2.sites.chr4.vcf.bgz.tbi\""
   ]
  },
  {
   "cell_type": "code",
   "execution_count": 12,
   "id": "3f3878f8-c252-4740-86e8-df5101c9ca1d",
   "metadata": {},
   "outputs": [
    {
     "name": "stdout",
     "output_type": "stream",
     "text": [
      "--2022-11-01 10:42:20--  https://storage.googleapis.com/gcp-public-data--gnomad/release/3.1.2/vcf/genomes/gnomad.genomes.v3.1.2.sites.chr9.vcf.bgz.tbi\n",
      "Resolving storage.googleapis.com (storage.googleapis.com)... 74.125.130.128, 74.125.200.128, 142.251.10.128, ...\n",
      "Connecting to storage.googleapis.com (storage.googleapis.com)|74.125.130.128|:443... connected.\n",
      "HTTP request sent, awaiting response... 200 OK\n",
      "Length: 130995 (128K) [application/octet-stream]\n",
      "Saving to: ‘depo/gnomad.genomes.v3.1.2.sites.chr9.vcf.bgz.tbi’\n",
      "\n",
      "depo/gnomad.genomes 100%[===================>] 127.92K  --.-KB/s    in 0.01s   \n",
      "\n",
      "2022-11-01 10:42:21 (11.4 MB/s) - ‘depo/gnomad.genomes.v3.1.2.sites.chr9.vcf.bgz.tbi’ saved [130995/130995]\n",
      "\n"
     ]
    }
   ],
   "source": [
    "wget -O depo/gnomad.genomes.v3.1.2.sites.chr9.vcf.bgz.tbi \\\n",
    "\"https://storage.googleapis.com/gcp-public-data--gnomad/release/3.1.2/vcf/genomes/gnomad.genomes.v3.1.2.sites.chr9.vcf.bgz.tbi\""
   ]
  },
  {
   "cell_type": "code",
   "execution_count": 13,
   "id": "d550209b-d199-4150-8654-f42aac991c4f",
   "metadata": {},
   "outputs": [
    {
     "name": "stdout",
     "output_type": "stream",
     "text": [
      "--2022-11-01 10:42:33--  https://storage.googleapis.com/gcp-public-data--gnomad/release/3.1.2/vcf/genomes/gnomad.genomes.v3.1.2.sites.chr10.vcf.bgz.tbi\n",
      "Resolving storage.googleapis.com (storage.googleapis.com)... 74.125.130.128, 74.125.200.128, 142.251.10.128, ...\n",
      "Connecting to storage.googleapis.com (storage.googleapis.com)|74.125.130.128|:443... connected.\n",
      "HTTP request sent, awaiting response... 200 OK\n",
      "Length: 143033 (140K) [application/octet-stream]\n",
      "Saving to: ‘depo/gnomad.genomes.v3.1.2.sites.chr10.vcf.bgz.tbi’\n",
      "\n",
      "depo/gnomad.genomes 100%[===================>] 139.68K  --.-KB/s    in 0.01s   \n",
      "\n",
      "2022-11-01 10:42:34 (11.7 MB/s) - ‘depo/gnomad.genomes.v3.1.2.sites.chr10.vcf.bgz.tbi’ saved [143033/143033]\n",
      "\n"
     ]
    }
   ],
   "source": [
    "wget -O depo/gnomad.genomes.v3.1.2.sites.chr10.vcf.bgz.tbi \\\n",
    "\"https://storage.googleapis.com/gcp-public-data--gnomad/release/3.1.2/vcf/genomes/gnomad.genomes.v3.1.2.sites.chr10.vcf.bgz.tbi\""
   ]
  },
  {
   "cell_type": "code",
   "execution_count": 14,
   "id": "de26583e-6f50-4b65-b32d-766434345c30",
   "metadata": {},
   "outputs": [
    {
     "name": "stdout",
     "output_type": "stream",
     "text": [
      "--2022-11-01 10:42:48--  https://storage.googleapis.com/gcp-public-data--gnomad/release/3.1.2/vcf/genomes/gnomad.genomes.v3.1.2.sites.chr11.vcf.bgz.tbi\n",
      "Resolving storage.googleapis.com (storage.googleapis.com)... 74.125.130.128, 74.125.200.128, 142.251.10.128, ...\n",
      "Connecting to storage.googleapis.com (storage.googleapis.com)|74.125.130.128|:443... connected.\n",
      "HTTP request sent, awaiting response... 200 OK\n",
      "Length: 142713 (139K) [application/octet-stream]\n",
      "Saving to: ‘depo/gnomad.genomes.v3.1.2.sites.chr11.vcf.bgz.tbi’\n",
      "\n",
      "depo/gnomad.genomes 100%[===================>] 139.37K  --.-KB/s    in 0.01s   \n",
      "\n",
      "2022-11-01 10:42:49 (11.7 MB/s) - ‘depo/gnomad.genomes.v3.1.2.sites.chr11.vcf.bgz.tbi’ saved [142713/142713]\n",
      "\n"
     ]
    }
   ],
   "source": [
    "wget -O depo/gnomad.genomes.v3.1.2.sites.chr11.vcf.bgz.tbi \\\n",
    "\"https://storage.googleapis.com/gcp-public-data--gnomad/release/3.1.2/vcf/genomes/gnomad.genomes.v3.1.2.sites.chr11.vcf.bgz.tbi\""
   ]
  },
  {
   "cell_type": "code",
   "execution_count": 15,
   "id": "71087726-f64b-4eca-87f0-96fdbb37b5b0",
   "metadata": {},
   "outputs": [
    {
     "name": "stdout",
     "output_type": "stream",
     "text": [
      "--2022-11-01 10:43:01--  https://storage.googleapis.com/gcp-public-data--gnomad/release/3.1.2/vcf/genomes/gnomad.genomes.v3.1.2.sites.chr12.vcf.bgz.tbi\n",
      "Resolving storage.googleapis.com (storage.googleapis.com)... 74.125.130.128, 74.125.200.128, 142.251.10.128, ...\n",
      "Connecting to storage.googleapis.com (storage.googleapis.com)|74.125.130.128|:443... connected.\n",
      "HTTP request sent, awaiting response... 200 OK\n",
      "Length: 142118 (139K) [application/octet-stream]\n",
      "Saving to: ‘depo/gnomad.genomes.v3.1.2.sites.chr12.vcf.bgz.tbi’\n",
      "\n",
      "depo/gnomad.genomes 100%[===================>] 138.79K  --.-KB/s    in 0.01s   \n",
      "\n",
      "2022-11-01 10:43:02 (11.1 MB/s) - ‘depo/gnomad.genomes.v3.1.2.sites.chr12.vcf.bgz.tbi’ saved [142118/142118]\n",
      "\n"
     ]
    }
   ],
   "source": [
    "wget -O depo/gnomad.genomes.v3.1.2.sites.chr12.vcf.bgz.tbi \\\n",
    "\"https://storage.googleapis.com/gcp-public-data--gnomad/release/3.1.2/vcf/genomes/gnomad.genomes.v3.1.2.sites.chr12.vcf.bgz.tbi\""
   ]
  },
  {
   "cell_type": "code",
   "execution_count": 6,
   "id": "a7b96c91-3035-4e77-951e-2cc2aa6910c7",
   "metadata": {},
   "outputs": [
    {
     "name": "stdout",
     "output_type": "stream",
     "text": [
      "--2022-10-26 11:43:29--  https://storage.googleapis.com/gcp-public-data--gnomad/release/3.1.2/vcf/genomes/gnomad.genomes.v3.1.2.sites.chr14.vcf.bgz.tbi\n",
      "Resolving storage.googleapis.com (storage.googleapis.com)... 142.251.10.128, 142.251.12.128, 74.125.200.128, ...\n",
      "Connecting to storage.googleapis.com (storage.googleapis.com)|142.251.10.128|:443... connected.\n",
      "HTTP request sent, awaiting response... 200 OK\n",
      "Length: 96071 (94K) [application/octet-stream]\n",
      "Saving to: ‘depo/gnomad.genomes.v3.1.2.sites.chr14.vcf.bgz.tbi’\n",
      "\n",
      "depo/gnomad.genomes 100%[===================>]  93.82K  --.-KB/s    in 0.007s  \n",
      "\n",
      "2022-10-26 11:43:30 (13.4 MB/s) - ‘depo/gnomad.genomes.v3.1.2.sites.chr14.vcf.bgz.tbi’ saved [96071/96071]\n",
      "\n"
     ]
    }
   ],
   "source": [
    "wget -O depo/gnomad.genomes.v3.1.2.sites.chr14.vcf.bgz.tbi \\\n",
    "\"https://storage.googleapis.com/gcp-public-data--gnomad/release/3.1.2/vcf/genomes/gnomad.genomes.v3.1.2.sites.chr14.vcf.bgz.tbi\""
   ]
  },
  {
   "cell_type": "code",
   "execution_count": 16,
   "id": "703f2be5-744d-4b52-bb99-8fa8dd062bcd",
   "metadata": {},
   "outputs": [
    {
     "name": "stdout",
     "output_type": "stream",
     "text": [
      "--2022-11-01 10:43:33--  https://storage.googleapis.com/gcp-public-data--gnomad/release/3.1.2/vcf/genomes/gnomad.genomes.v3.1.2.sites.chr16.vcf.bgz.tbi\n",
      "Resolving storage.googleapis.com (storage.googleapis.com)... 74.125.68.128, 142.250.4.128, 74.125.24.128, ...\n",
      "Connecting to storage.googleapis.com (storage.googleapis.com)|74.125.68.128|:443... connected.\n",
      "HTTP request sent, awaiting response... 200 OK\n",
      "Length: 87761 (86K) [application/octet-stream]\n",
      "Saving to: ‘depo/gnomad.genomes.v3.1.2.sites.chr16.vcf.bgz.tbi’\n",
      "\n",
      "depo/gnomad.genomes 100%[===================>]  85.70K  --.-KB/s    in 0.007s  \n",
      "\n",
      "2022-11-01 10:43:33 (12.1 MB/s) - ‘depo/gnomad.genomes.v3.1.2.sites.chr16.vcf.bgz.tbi’ saved [87761/87761]\n",
      "\n"
     ]
    }
   ],
   "source": [
    "wget -O depo/gnomad.genomes.v3.1.2.sites.chr16.vcf.bgz.tbi \\\n",
    "\"https://storage.googleapis.com/gcp-public-data--gnomad/release/3.1.2/vcf/genomes/gnomad.genomes.v3.1.2.sites.chr16.vcf.bgz.tbi\""
   ]
  },
  {
   "cell_type": "code",
   "execution_count": 17,
   "id": "7f541036-a795-43ab-a745-b3924285c30d",
   "metadata": {},
   "outputs": [
    {
     "name": "stdout",
     "output_type": "stream",
     "text": [
      "--2022-11-01 10:43:48--  https://storage.googleapis.com/gcp-public-data--gnomad/release/3.1.2/vcf/genomes/gnomad.genomes.v3.1.2.sites.chr17.vcf.bgz.tbi\n",
      "Resolving storage.googleapis.com (storage.googleapis.com)... 74.125.130.128, 74.125.200.128, 142.251.10.128, ...\n",
      "Connecting to storage.googleapis.com (storage.googleapis.com)|74.125.130.128|:443... connected.\n",
      "HTTP request sent, awaiting response... 200 OK\n",
      "Length: 86804 (85K) [application/octet-stream]\n",
      "Saving to: ‘depo/gnomad.genomes.v3.1.2.sites.chr17.vcf.bgz.tbi’\n",
      "\n",
      "depo/gnomad.genomes 100%[===================>]  84.77K  --.-KB/s    in 0.007s  \n",
      "\n",
      "2022-11-01 10:43:49 (11.9 MB/s) - ‘depo/gnomad.genomes.v3.1.2.sites.chr17.vcf.bgz.tbi’ saved [86804/86804]\n",
      "\n"
     ]
    }
   ],
   "source": [
    "wget -O depo/gnomad.genomes.v3.1.2.sites.chr17.vcf.bgz.tbi \\\n",
    "\"https://storage.googleapis.com/gcp-public-data--gnomad/release/3.1.2/vcf/genomes/gnomad.genomes.v3.1.2.sites.chr17.vcf.bgz.tbi\""
   ]
  },
  {
   "cell_type": "code",
   "execution_count": 18,
   "id": "83a6be37-5bf3-4d84-abd9-fe0285576618",
   "metadata": {},
   "outputs": [
    {
     "name": "stdout",
     "output_type": "stream",
     "text": [
      "--2022-11-01 10:44:02--  https://storage.googleapis.com/gcp-public-data--gnomad/release/3.1.2/vcf/genomes/gnomad.genomes.v3.1.2.sites.chr20.vcf.bgz.tbi\n",
      "Resolving storage.googleapis.com (storage.googleapis.com)... 74.125.130.128, 74.125.200.128, 142.251.10.128, ...\n",
      "Connecting to storage.googleapis.com (storage.googleapis.com)|74.125.130.128|:443... connected.\n",
      "HTTP request sent, awaiting response... 200 OK\n",
      "Length: 65533 (64K) [application/octet-stream]\n",
      "Saving to: ‘depo/gnomad.genomes.v3.1.2.sites.chr20.vcf.bgz.tbi’\n",
      "\n",
      "depo/gnomad.genomes 100%[===================>]  64.00K  --.-KB/s    in 0.005s  \n",
      "\n",
      "2022-11-01 10:44:04 (12.1 MB/s) - ‘depo/gnomad.genomes.v3.1.2.sites.chr20.vcf.bgz.tbi’ saved [65533/65533]\n",
      "\n"
     ]
    }
   ],
   "source": [
    "wget -O depo/gnomad.genomes.v3.1.2.sites.chr20.vcf.bgz.tbi \\\n",
    "\"https://storage.googleapis.com/gcp-public-data--gnomad/release/3.1.2/vcf/genomes/gnomad.genomes.v3.1.2.sites.chr20.vcf.bgz.tbi\""
   ]
  },
  {
   "cell_type": "markdown",
   "id": "a022b7f5-11ac-41ce-9693-2f708a234023",
   "metadata": {},
   "source": [
    "## High Confidence / Gold Standard Variants"
   ]
  },
  {
   "cell_type": "markdown",
   "id": "eff76dfc-06aa-4c66-a181-2fa4440201eb",
   "metadata": {},
   "source": [
    "https://console.cloud.google.com/storage/browser/genomics-public-data/resources/broad/hg38/v0"
   ]
  },
  {
   "cell_type": "code",
   "execution_count": 24,
   "id": "7d8c353a-d09b-4aaa-8aa9-5a0051ac0a53",
   "metadata": {},
   "outputs": [
    {
     "name": "stdout",
     "output_type": "stream",
     "text": [
      "--2022-11-25 12:43:14--  https://storage.googleapis.com/genomics-public-data/resources/broad/hg38/v0/1000G_phase1.snps.high_confidence.hg38.vcf.gz\n",
      "Resolving storage.googleapis.com (storage.googleapis.com)... 172.253.118.128, 74.125.200.128, 142.250.4.128, ...\n",
      "Connecting to storage.googleapis.com (storage.googleapis.com)|172.253.118.128|:443... connected.\n",
      "HTTP request sent, awaiting response... 200 OK\n",
      "Length: 1888262073 (1.8G) [text/x-vcard]\n",
      "Saving to: ‘depo/1000G_phase1.snps.high_confidence.hg38.vcf.gz’\n",
      "\n",
      "depo/1000G_phase1.s 100%[===================>]   1.76G  22.0MB/s    in 86s     \n",
      "\n",
      "2022-11-25 12:44:41 (20.9 MB/s) - ‘depo/1000G_phase1.snps.high_confidence.hg38.vcf.gz’ saved [1888262073/1888262073]\n",
      "\n"
     ]
    }
   ],
   "source": [
    "wget -O depo/1000G_phase1.snps.high_confidence.hg38.vcf.gz \\\n",
    "\"https://storage.googleapis.com/genomics-public-data/resources/broad/hg38/v0/1000G_phase1.snps.high_confidence.hg38.vcf.gz\""
   ]
  },
  {
   "cell_type": "code",
   "execution_count": 25,
   "id": "6773e30e-2854-4ec5-9c9e-54c38b2ed4ee",
   "metadata": {},
   "outputs": [
    {
     "name": "stdout",
     "output_type": "stream",
     "text": [
      "--2022-11-25 12:44:41--  https://storage.googleapis.com/genomics-public-data/resources/broad/hg38/v0/1000G_phase1.snps.high_confidence.hg38.vcf.gz.tbi\n",
      "Resolving storage.googleapis.com (storage.googleapis.com)... 142.251.12.128, 172.253.118.128, 74.125.200.128, ...\n",
      "Connecting to storage.googleapis.com (storage.googleapis.com)|142.251.12.128|:443... connected.\n",
      "HTTP request sent, awaiting response... 200 OK\n",
      "Length: 2128536 (2.0M) [application/octet-stream]\n",
      "Saving to: ‘depo/1000G_phase1.snps.high_confidence.hg38.vcf.gz.tbi’\n",
      "\n",
      "depo/1000G_phase1.s 100%[===================>]   2.03M  1.28MB/s    in 1.6s    \n",
      "\n",
      "2022-11-25 12:44:43 (1.28 MB/s) - ‘depo/1000G_phase1.snps.high_confidence.hg38.vcf.gz.tbi’ saved [2128536/2128536]\n",
      "\n"
     ]
    }
   ],
   "source": [
    "wget -O depo/1000G_phase1.snps.high_confidence.hg38.vcf.gz.tbi \\\n",
    "\"https://storage.googleapis.com/genomics-public-data/resources/broad/hg38/v0/1000G_phase1.snps.high_confidence.hg38.vcf.gz.tbi\""
   ]
  },
  {
   "cell_type": "code",
   "execution_count": 26,
   "id": "822e550b-ed67-4d2a-b7f2-3720b2b2d445",
   "metadata": {},
   "outputs": [
    {
     "name": "stdout",
     "output_type": "stream",
     "text": [
      "--2022-11-25 12:44:43--  https://storage.googleapis.com/genomics-public-data/resources/broad/hg38/v0/Mills_and_1000G_gold_standard.indels.hg38.vcf.gz\n",
      "Resolving storage.googleapis.com (storage.googleapis.com)... 142.251.10.128, 172.217.194.128, 74.125.24.128, ...\n",
      "Connecting to storage.googleapis.com (storage.googleapis.com)|142.251.10.128|:443... connected.\n",
      "HTTP request sent, awaiting response... 200 OK\n",
      "Length: 20685880 (20M) [text/x-vcard]\n",
      "Saving to: ‘depo/Mills_and_1000G_gold_standard.indels.hg38.vcf.gz’\n",
      "\n",
      "depo/Mills_and_1000 100%[===================>]  19.73M  6.54MB/s    in 3.0s    \n",
      "\n",
      "2022-11-25 12:44:47 (6.54 MB/s) - ‘depo/Mills_and_1000G_gold_standard.indels.hg38.vcf.gz’ saved [20685880/20685880]\n",
      "\n"
     ]
    }
   ],
   "source": [
    "wget -O depo/Mills_and_1000G_gold_standard.indels.hg38.vcf.gz \\\n",
    "\"https://storage.googleapis.com/genomics-public-data/resources/broad/hg38/v0/Mills_and_1000G_gold_standard.indels.hg38.vcf.gz\""
   ]
  },
  {
   "cell_type": "code",
   "execution_count": 27,
   "id": "ca37a9a4-6137-4e7c-a921-546e5bd510fb",
   "metadata": {},
   "outputs": [
    {
     "name": "stdout",
     "output_type": "stream",
     "text": [
      "--2022-11-25 12:44:47--  https://storage.googleapis.com/genomics-public-data/resources/broad/hg38/v0/Mills_and_1000G_gold_standard.indels.hg38.vcf.gz.tbi\n",
      "Resolving storage.googleapis.com (storage.googleapis.com)... 142.251.10.128, 172.217.194.128, 74.125.24.128, ...\n",
      "Connecting to storage.googleapis.com (storage.googleapis.com)|142.251.10.128|:443... connected.\n",
      "HTTP request sent, awaiting response... 200 OK\n",
      "Length: 1500013 (1.4M) [application/octet-stream]\n",
      "Saving to: ‘depo/Mills_and_1000G_gold_standard.indels.hg38.vcf.gz.tbi’\n",
      "\n",
      "depo/Mills_and_1000 100%[===================>]   1.43M   859KB/s    in 1.7s    \n",
      "\n",
      "2022-11-25 12:44:49 (859 KB/s) - ‘depo/Mills_and_1000G_gold_standard.indels.hg38.vcf.gz.tbi’ saved [1500013/1500013]\n",
      "\n"
     ]
    }
   ],
   "source": [
    "wget -O depo/Mills_and_1000G_gold_standard.indels.hg38.vcf.gz.tbi \\\n",
    "\"https://storage.googleapis.com/genomics-public-data/resources/broad/hg38/v0/Mills_and_1000G_gold_standard.indels.hg38.vcf.gz.tbi\""
   ]
  },
  {
   "cell_type": "code",
   "execution_count": 29,
   "id": "be23b30f-71aa-414e-82e1-a25ab89765de",
   "metadata": {},
   "outputs": [
    {
     "name": "stdout",
     "output_type": "stream",
     "text": [
      "--2022-11-28 12:24:58--  https://storage.googleapis.com/genomics-public-data/resources/broad/hg38/v0/Homo_sapiens_assembly38.dbsnp138.vcf\n",
      "Resolving storage.googleapis.com (storage.googleapis.com)... 142.251.10.128, 142.251.12.128, 142.250.4.128, ...\n",
      "Connecting to storage.googleapis.com (storage.googleapis.com)|142.251.10.128|:443... connected.\n",
      "HTTP request sent, awaiting response... 200 OK\n",
      "Length: 10950827213 (10G) [text/x-vcard]\n",
      "Saving to: ‘depo/Homo_sapiens_assembly38.dbsnp138.vcf’\n",
      "\n",
      "depo/Homo_sapiens_a 100%[===================>]  10.20G  16.1MB/s    in 11m 6s  \n",
      "\n",
      "2022-11-28 12:36:04 (15.7 MB/s) - ‘depo/Homo_sapiens_assembly38.dbsnp138.vcf’ saved [10950827213/10950827213]\n",
      "\n"
     ]
    }
   ],
   "source": [
    "wget -O depo/Homo_sapiens_assembly38.dbsnp138.vcf \\\n",
    "\"https://storage.googleapis.com/genomics-public-data/resources/broad/hg38/v0/Homo_sapiens_assembly38.dbsnp138.vcf\""
   ]
  },
  {
   "cell_type": "code",
   "execution_count": 28,
   "id": "ca421166-b6e4-4484-ada3-c13c664a03fb",
   "metadata": {},
   "outputs": [
    {
     "name": "stdout",
     "output_type": "stream",
     "text": [
      "--2022-11-28 12:24:37--  https://storage.googleapis.com/genomics-public-data/resources/broad/hg38/v0/Homo_sapiens_assembly38.dbsnp138.vcf.idx\n",
      "Resolving storage.googleapis.com (storage.googleapis.com)... 74.125.200.128, 142.250.4.128, 74.125.24.128, ...\n",
      "Connecting to storage.googleapis.com (storage.googleapis.com)|74.125.200.128|:443... connected.\n",
      "HTTP request sent, awaiting response... 200 OK\n",
      "Length: 12480412 (12M) [application/octet-stream]\n",
      "Saving to: ‘depo/Homo_sapiens_assembly38.dbsnp138.vcf.idx’\n",
      "\n",
      "depo/Homo_sapiens_a 100%[===================>]  11.90M  7.91MB/s    in 1.5s    \n",
      "\n",
      "2022-11-28 12:24:39 (7.91 MB/s) - ‘depo/Homo_sapiens_assembly38.dbsnp138.vcf.idx’ saved [12480412/12480412]\n",
      "\n"
     ]
    }
   ],
   "source": [
    "wget -O depo/Homo_sapiens_assembly38.dbsnp138.vcf.idx \\\n",
    "\"https://storage.googleapis.com/genomics-public-data/resources/broad/hg38/v0/Homo_sapiens_assembly38.dbsnp138.vcf.idx\""
   ]
  },
  {
   "cell_type": "code",
   "execution_count": 30,
   "id": "cc512728-b8a1-47f9-96b4-8b804d0e4ed5",
   "metadata": {},
   "outputs": [
    {
     "name": "stdout",
     "output_type": "stream",
     "text": [
      "--2022-11-28 13:35:31--  https://storage.googleapis.com/genomics-public-data/resources/broad/hg38/v0/Homo_sapiens_assembly38.known_indels.vcf.gz\n",
      "Resolving storage.googleapis.com (storage.googleapis.com)... 142.251.12.128, 74.125.200.128, 74.125.68.128, ...\n",
      "Connecting to storage.googleapis.com (storage.googleapis.com)|142.251.12.128|:443... connected.\n",
      "HTTP request sent, awaiting response... 200 OK\n",
      "Length: 61692306 (59M) [text/x-vcard]\n",
      "Saving to: ‘depo/Homo_sapiens_assembly38.known_indels.vcf.gz’\n",
      "\n",
      "depo/Homo_sapiens_a 100%[===================>]  58.83M  15.8MB/s    in 5.3s    \n",
      "\n",
      "2022-11-28 13:35:37 (11.1 MB/s) - ‘depo/Homo_sapiens_assembly38.known_indels.vcf.gz’ saved [61692306/61692306]\n",
      "\n"
     ]
    }
   ],
   "source": [
    "wget -O depo/Homo_sapiens_assembly38.known_indels.vcf.gz \\\n",
    "\"https://storage.googleapis.com/genomics-public-data/resources/broad/hg38/v0/Homo_sapiens_assembly38.known_indels.vcf.gz\""
   ]
  },
  {
   "cell_type": "code",
   "execution_count": 31,
   "id": "73a99a5a-831c-4ee5-add6-e7de74a65c7d",
   "metadata": {},
   "outputs": [
    {
     "name": "stdout",
     "output_type": "stream",
     "text": [
      "--2022-11-28 13:35:37--  https://storage.googleapis.com/genomics-public-data/resources/broad/hg38/v0/Homo_sapiens_assembly38.known_indels.vcf.gz.tbi\n",
      "Resolving storage.googleapis.com (storage.googleapis.com)... 142.251.10.128, 172.217.194.128, 74.125.24.128, ...\n",
      "Connecting to storage.googleapis.com (storage.googleapis.com)|142.251.10.128|:443... connected.\n",
      "HTTP request sent, awaiting response... 200 OK\n",
      "Length: 1567886 (1.5M) [application/octet-stream]\n",
      "Saving to: ‘depo/Homo_sapiens_assembly38.known_indels.vcf.gz.tbi’\n",
      "\n",
      "depo/Homo_sapiens_a 100%[===================>]   1.50M   891KB/s    in 1.7s    \n",
      "\n",
      "2022-11-28 13:35:40 (891 KB/s) - ‘depo/Homo_sapiens_assembly38.known_indels.vcf.gz.tbi’ saved [1567886/1567886]\n",
      "\n"
     ]
    }
   ],
   "source": [
    "wget -O depo/Homo_sapiens_assembly38.known_indels.vcf.gz.tbi \\\n",
    "\"https://storage.googleapis.com/genomics-public-data/resources/broad/hg38/v0/Homo_sapiens_assembly38.known_indels.vcf.gz.tbi\""
   ]
  },
  {
   "cell_type": "code",
   "execution_count": 32,
   "id": "fcb00c4f-6ab9-43ab-ac43-c94bbbfa2953",
   "metadata": {
    "editable": false,
    "tags": []
   },
   "outputs": [
    {
     "name": "stdout",
     "output_type": "stream",
     "text": [
      "total 901672288\n",
      "-rw-rw-r-- 1 jmcarter jmcarter   1888262073 Jul 22  2016 \u001b[0m\u001b[01;31m1000G_phase1.snps.high_confidence.hg38.vcf.gz\u001b[0m\n",
      "-rw-rw-r-- 1 jmcarter jmcarter      2128536 Jul 22  2016 1000G_phase1.snps.high_confidence.hg38.vcf.gz.tbi\n",
      "-rw-rw-r-- 1 jmcarter jmcarter 117914739898 Oct 30  2021 gnomad.genomes.v3.1.2.sites.chr10.vcf.bgz\n",
      "-rw-rw-r-- 1 jmcarter jmcarter       143033 Oct 30  2021 gnomad.genomes.v3.1.2.sites.chr10.vcf.bgz.tbi\n",
      "-rw-rw-r-- 1 jmcarter jmcarter 116325219774 Oct 30  2021 gnomad.genomes.v3.1.2.sites.chr11.vcf.bgz\n",
      "-rw-rw-r-- 1 jmcarter jmcarter       142713 Oct 30  2021 gnomad.genomes.v3.1.2.sites.chr11.vcf.bgz.tbi\n",
      "-rw-rw-r-- 1 jmcarter jmcarter 114042301500 Oct 30  2021 gnomad.genomes.v3.1.2.sites.chr12.vcf.bgz\n",
      "-rw-rw-r-- 1 jmcarter jmcarter       142118 Oct 30  2021 gnomad.genomes.v3.1.2.sites.chr12.vcf.bgz.tbi\n",
      "-rw-rw-r-- 1 jmcarter jmcarter  78504248952 Oct 30  2021 gnomad.genomes.v3.1.2.sites.chr14.vcf.bgz\n",
      "-rw-rw-r-- 1 jmcarter jmcarter        96071 Oct 30  2021 gnomad.genomes.v3.1.2.sites.chr14.vcf.bgz.tbi\n",
      "-rw-rw-r-- 1 jmcarter jmcarter  82406068224 Oct 30  2021 gnomad.genomes.v3.1.2.sites.chr16.vcf.bgz\n",
      "-rw-rw-r-- 1 jmcarter jmcarter        87761 Oct 30  2021 gnomad.genomes.v3.1.2.sites.chr16.vcf.bgz.tbi\n",
      "-rw-rw-r-- 1 jmcarter jmcarter  73832366577 Oct 30  2021 gnomad.genomes.v3.1.2.sites.chr17.vcf.bgz\n",
      "-rw-rw-r-- 1 jmcarter jmcarter        86804 Oct 30  2021 gnomad.genomes.v3.1.2.sites.chr17.vcf.bgz.tbi\n",
      "-rw-rw-r-- 1 jmcarter jmcarter  53285996839 Oct 30  2021 gnomad.genomes.v3.1.2.sites.chr20.vcf.bgz\n",
      "-rw-rw-r-- 1 jmcarter jmcarter        65533 Oct 30  2021 gnomad.genomes.v3.1.2.sites.chr20.vcf.bgz.tbi\n",
      "-rw-rw-r-- 1 jmcarter jmcarter 163327599361 Oct 30  2021 gnomad.genomes.v3.1.2.sites.chr4.vcf.bgz\n",
      "-rw-rw-r-- 1 jmcarter jmcarter       204030 Oct 30  2021 gnomad.genomes.v3.1.2.sites.chr4.vcf.bgz.tbi\n",
      "-rw-rw-r-- 1 jmcarter jmcarter 110733327638 Oct 30  2021 gnomad.genomes.v3.1.2.sites.chr9.vcf.bgz\n",
      "-rw-rw-r-- 1 jmcarter jmcarter       130995 Oct 30  2021 gnomad.genomes.v3.1.2.sites.chr9.vcf.bgz.tbi\n",
      "-rw-rw-r-- 1 jmcarter jmcarter  10950827213 Jul 22  2016 Homo_sapiens_assembly38.dbsnp138.vcf\n",
      "-rw-rw-r-- 1 jmcarter jmcarter     12480412 Jul 22  2016 Homo_sapiens_assembly38.dbsnp138.vcf.idx\n",
      "-rw-rw-r-- 1 jmcarter jmcarter     61692306 Jul 22  2016 \u001b[01;31mHomo_sapiens_assembly38.known_indels.vcf.gz\u001b[0m\n",
      "-rw-rw-r-- 1 jmcarter jmcarter      1567886 Jul 22  2016 Homo_sapiens_assembly38.known_indels.vcf.gz.tbi\n",
      "-rw-rw-r-- 1 jmcarter jmcarter     20685880 Jul 22  2016 \u001b[01;31mMills_and_1000G_gold_standard.indels.hg38.vcf.gz\u001b[0m\n",
      "-rw-rw-r-- 1 jmcarter jmcarter      1500013 Jul 22  2016 Mills_and_1000G_gold_standard.indels.hg38.vcf.gz.tbi\n"
     ]
    }
   ],
   "source": [
    "ls -l depo"
   ]
  },
  {
   "cell_type": "markdown",
   "id": "6d1e5660-6461-4451-b7bc-c7f9d1607dee",
   "metadata": {
    "editable": false,
    "tags": []
   },
   "source": [
    "## Imports\n",
    "Symlink any existing data to the `impo` folder.  \n",
    "Use `ln -s /path/to/source impo/destination`."
   ]
  },
  {
   "cell_type": "code",
   "execution_count": 79,
   "id": "0f08b432-4996-4bd1-863e-ed92782b7ddd",
   "metadata": {
    "editable": false,
    "tags": []
   },
   "outputs": [
    {
     "name": "stdout",
     "output_type": "stream",
     "text": [
      "total 0\n"
     ]
    }
   ],
   "source": [
    "ls -l impo"
   ]
  },
  {
   "cell_type": "markdown",
   "id": "5cb0e2c2-2ef5-44e4-aa29-c1b8b76a5f05",
   "metadata": {
    "editable": false,
    "tags": []
   },
   "source": [
    "## Exports"
   ]
  },
  {
   "cell_type": "markdown",
   "id": "fe3d2bef-ef11-487b-b1f4-0349b683bd39",
   "metadata": {
    "editable": false,
    "tags": []
   },
   "source": [
    "Data generated in the dataShop to be shared externally can be symlinked here.  \n",
    "Prefix with dataShop UID.  \n",
    "e.g. `ln -rs proc/results.tsv expo/RAL2CG.0.JMC.results.tsv`"
   ]
  },
  {
   "cell_type": "code",
   "execution_count": 77,
   "id": "959158d0-16bc-4859-8f82-e5538f346a81",
   "metadata": {
    "editable": false,
    "tags": []
   },
   "outputs": [
    {
     "name": "stdout",
     "output_type": "stream",
     "text": [
      "total 0\n"
     ]
    }
   ],
   "source": [
    "ls -l expo"
   ]
  },
  {
   "cell_type": "markdown",
   "id": "4098535c-4f01-40ae-8e56-a4611ba93044",
   "metadata": {
    "editable": false,
    "tags": []
   },
   "source": [
    "---"
   ]
  },
  {
   "cell_type": "markdown",
   "id": "b1a40a55-5d23-463c-83bc-f8814d8124f2",
   "metadata": {
    "editable": false,
    "tags": []
   },
   "source": [
    "WARNING: Upon launching custom bash kernels you may need to run this:"
   ]
  },
  {
   "cell_type": "code",
   "execution_count": null,
   "id": "17aa86e5-7676-4075-a2a4-b16004ea934f",
   "metadata": {
    "editable": false,
    "tags": []
   },
   "outputs": [],
   "source": [
    "bind 'set enable-bracketed-paste off'"
   ]
  },
  {
   "cell_type": "markdown",
   "id": "3359515d-a53c-4ce5-b033-255b2a85b0d9",
   "metadata": {
    "editable": false,
    "tags": []
   },
   "source": [
    "---"
   ]
  },
  {
   "cell_type": "markdown",
   "id": "158b2492-e6cf-4548-bac9-f2609aef9452",
   "metadata": {
    "editable": true,
    "tags": []
   },
   "source": [
    "# dataShop Code [env:my_env]"
   ]
  },
  {
   "cell_type": "code",
   "execution_count": 4,
   "id": "b42fd9f5-c266-4a23-8bd3-a4a429bcd76c",
   "metadata": {},
   "outputs": [],
   "source": [
    "#awk is much faster than sed for this task\n",
    "vcfstrip() {\n",
    "awk 'BEGIN{OFS=FS=\"\\t\"} !/^#/ {\n",
    "     $3=\".\";$6=\".\";match($8, /AF=[0-9]*\\.[e0-9+-]*/); \n",
    "     $8=\"AF=\"0.00000+substr($8, RSTART+3, RLENGTH-3)}; {print $0}'\n",
    "}\n",
    "export -f vcfstrip"
   ]
  },
  {
   "cell_type": "code",
   "execution_count": 22,
   "id": "d6cb8a36-a14b-4bf4-ad25-09580a48ec08",
   "metadata": {},
   "outputs": [],
   "source": [
    "##awk is much faster than sed for this task\n",
    "#vcfstrip() {\n",
    "#awk 'BEGIN{OFS=FS=\"\\t\"} !/^#/ {\n",
    "#     $3=\".\"; $6=\".\"; match($8, /AF[_|a-z]*=[0-9]*\\.[e0-9+-]*/, arr);\n",
    "#     for (i in arr) {start=arr[i, \"start\"]+3; length=arr[i, \"length\"]-3;\n",
    "#                     AF=substr($8, start, length); if (AF > best){best = AF}};\n",
    "#     $8=\"AF=\"best}; {print $0}'\n",
    "#}"
   ]
  },
  {
   "cell_type": "code",
   "execution_count": 14,
   "id": "385c8268-cf95-4555-b188-b4e6a23daace",
   "metadata": {
    "tags": []
   },
   "outputs": [
    {
     "name": "stdout",
     "output_type": "stream",
     "text": [
      "\n",
      "real\t35m54.343s\n",
      "user\t37m50.482s\n",
      "sys\t6m37.191s\n"
     ]
    }
   ],
   "source": [
    "#time zcat depo/gnomad.genomes.v3.1.2.sites.chr14.vcf.bgz \\\n",
    "#    | vcfstrip \\\n",
    "#    | bgzip -@ 4 \\\n",
    "#    > prod/AFonly.gnomad.genomes.v3.1.2.sites.chr14.vcf.bgz"
   ]
  },
  {
   "cell_type": "code",
   "execution_count": 19,
   "id": "604830e4-0c92-4f6a-9d92-64417ba45748",
   "metadata": {},
   "outputs": [
    {
     "name": "stdout",
     "output_type": "stream",
     "text": [
      "depo/gnomad.genomes.v3.1.2.sites.chr10.vcf.bgz\n",
      "depo/gnomad.genomes.v3.1.2.sites.chr11.vcf.bgz\n",
      "depo/gnomad.genomes.v3.1.2.sites.chr12.vcf.bgz\n",
      "depo/gnomad.genomes.v3.1.2.sites.chr14.vcf.bgz\n",
      "depo/gnomad.genomes.v3.1.2.sites.chr16.vcf.bgz\n",
      "depo/gnomad.genomes.v3.1.2.sites.chr17.vcf.bgz\n",
      "depo/gnomad.genomes.v3.1.2.sites.chr20.vcf.bgz\n",
      "depo/gnomad.genomes.v3.1.2.sites.chr4.vcf.bgz\n",
      "depo/gnomad.genomes.v3.1.2.sites.chr9.vcf.bgz\n"
     ]
    }
   ],
   "source": [
    "ls depo/*.bgz"
   ]
  },
  {
   "cell_type": "code",
   "execution_count": 15,
   "id": "df63c9e9-4ab8-40a3-9dd0-b490d24a0cac",
   "metadata": {},
   "outputs": [
    {
     "name": "stdout",
     "output_type": "stream",
     "text": [
      "prod/AFonly.gnomad.genomes.v3.1.2.sites.chr10.vcf.gz\n",
      "prod/AFonly.gnomad.genomes.v3.1.2.sites.chr11.vcf.gz\n",
      "prod/AFonly.gnomad.genomes.v3.1.2.sites.chr12.vcf.gz\n",
      "prod/AFonly.gnomad.genomes.v3.1.2.sites.chr14.vcf.gz\n",
      "prod/AFonly.gnomad.genomes.v3.1.2.sites.chr16.vcf.gz\n",
      "prod/AFonly.gnomad.genomes.v3.1.2.sites.chr17.vcf.gz\n",
      "prod/AFonly.gnomad.genomes.v3.1.2.sites.chr20.vcf.gz\n",
      "prod/AFonly.gnomad.genomes.v3.1.2.sites.chr4.vcf.gz\n",
      "prod/AFonly.gnomad.genomes.v3.1.2.sites.chr9.vcf.gz\n"
     ]
    }
   ],
   "source": [
    "for chr in depo/*.bgz; do\n",
    "name=\"$(basename -- $chr)\"\n",
    "echo \"prod/AFonly.${name%.bgz}.gz\"\n",
    "done"
   ]
  },
  {
   "cell_type": "code",
   "execution_count": 5,
   "id": "78cc8c1d-d096-4989-8526-7bbfc440ada4",
   "metadata": {
    "tags": []
   },
   "outputs": [
    {
     "name": "stdout",
     "output_type": "stream",
     "text": [
      "gnomad.genomes.v3.1.2.sites.chr10.vcf.bgz submitted\n",
      "gnomad.genomes.v3.1.2.sites.chr11.vcf.bgz submitted\n",
      "gnomad.genomes.v3.1.2.sites.chr12.vcf.bgz submitted\n",
      "gnomad.genomes.v3.1.2.sites.chr14.vcf.bgz submitted\n",
      "gnomad.genomes.v3.1.2.sites.chr16.vcf.bgz submitted\n",
      "gnomad.genomes.v3.1.2.sites.chr17.vcf.bgz submitted\n",
      "gnomad.genomes.v3.1.2.sites.chr20.vcf.bgz submitted\n",
      "gnomad.genomes.v3.1.2.sites.chr4.vcf.bgz submitted\n",
      "gnomad.genomes.v3.1.2.sites.chr9.vcf.bgz submitted\n"
     ]
    }
   ],
   "source": [
    "for chr in depo/*.bgz; do\n",
    "name=\"$(basename -- $chr)\"\n",
    "sem -j 2 \"zcat ${chr} \\\n",
    "    | vcfstrip \\\n",
    "    | bgzip -@ 4 \\\n",
    "    > prod/AFonly.${name%.bgz}.gz ; echo ${name} done\"; echo \"${name} submitted\"\n",
    "done\n",
    "sem --wait"
   ]
  },
  {
   "cell_type": "code",
   "execution_count": 10,
   "id": "e8f53dfb-a9ea-4a97-9279-77e207dfe656",
   "metadata": {
    "collapsed": true,
    "jupyter": {
     "outputs_hidden": true
    },
    "tags": []
   },
   "outputs": [
    {
     "name": "stdout",
     "output_type": "stream",
     "text": [
      "parallel: Warning: A record was longer than 1048576. Increasing to --blocksize 1363150.\n",
      "parallel: Warning: A record was longer than 1363150. Increasing to --blocksize 1772096.\n",
      "parallel: Warning: A record was longer than 1772096. Increasing to --blocksize 2303726.\n",
      "parallel: Warning: A record was longer than 2303726. Increasing to --blocksize 2994845.\n",
      "parallel: Warning: A record was longer than 2994845. Increasing to --blocksize 3893300.\n",
      "parallel: Warning: A record was longer than 3893300. Increasing to --blocksize 5061291.\n",
      "parallel: Warning: A record was longer than 5061291. Increasing to --blocksize 6579680.\n",
      "parallel: Warning: A record was longer than 6579680. Increasing to --blocksize 8553585.\n",
      "parallel: Warning: A record was longer than 8553585. Increasing to --blocksize 11119662.\n",
      "parallel: Warning: A record was longer than 11119662. Increasing to --blocksize 14455562.\n",
      "parallel: Warning: A record was longer than 14455562. Increasing to --blocksize 18792232.\n",
      "parallel: Warning: A record was longer than 18792232. Increasing to --blocksize 24429903.\n",
      "parallel: Warning: A record was longer than 24429903. Increasing to --blocksize 31758875.\n",
      "parallel: Warning: A record was longer than 31758875. Increasing to --blocksize 41286539.\n",
      "parallel: Warning: A record was longer than 41286539. Increasing to --blocksize 53672502.\n",
      "parallel: Warning: A record was longer than 53672502. Increasing to --blocksize 69774254.\n",
      "parallel: Warning: A record was longer than 69774254. Increasing to --blocksize 90706532.\n",
      "parallel: Warning: A record was longer than 90706532. Increasing to --blocksize 117918493.\n",
      "parallel: Warning: A record was longer than 117918493. Increasing to --blocksize 153294042.\n",
      "parallel: Warning: A record was longer than 153294042. Increasing to --blocksize 199282256.\n",
      "parallel: Warning: A record was longer than 199282256. Increasing to --blocksize 259066934.\n",
      "parallel: Warning: A record was longer than 259066934. Increasing to --blocksize 336787016.\n",
      "parallel: Warning: A record was longer than 336787016. Increasing to --blocksize 437823122.\n",
      "parallel: Warning: A record was longer than 437823122. Increasing to --blocksize 569170060.\n",
      "parallel: Warning: A record was longer than 569170060. Increasing to --blocksize 739921079.\n",
      "parallel: Warning: A record was longer than 739921079. Increasing to --blocksize 961897404.\n",
      "parallel: Warning: A record was longer than 961897404. Increasing to --blocksize 1250466627.\n",
      "parallel: Warning: A record was longer than 1250466627. Increasing to --blocksize 1625606617.\n",
      "parallel: Warning: A record was longer than 1625606617. Increasing to --blocksize 2113288604.\n",
      "parallel: Warning: A record was longer than 2113288604. Increasing to --blocksize 2147483647.\n",
      "\n",
      "\n",
      "real\t58m21.785s\n",
      "user\t58m13.608s\n",
      "sys\t0m4.872s\n"
     ]
    }
   ],
   "source": [
    "#time zcat depo/gnomad.genomes.v3.1.2.sites.chr14.vcf.bgz \\\n",
    "#    | parallel -l 1000000 -j 10 -k --spreadstdin vcfstrip \\\n",
    "#    | bgzip -@ 10 \\\n",
    "#    > prod/chr14.vcf.bgz"
   ]
  },
  {
   "cell_type": "code",
   "execution_count": 16,
   "id": "fe6ee92e-b557-41d6-a2dc-7b9fc6fe6d8f",
   "metadata": {},
   "outputs": [
    {
     "name": "stdout",
     "output_type": "stream",
     "text": [
      "\u001b[0m\u001b[01;31mprod/AFonly.gnomad.genomes.v3.1.2.sites.9X.vcf.gz\u001b[0m\n",
      "\u001b[01;31mprod/AFonly.gnomad.genomes.v3.1.2.sites.chr10.vcf.gz\u001b[0m\n",
      "\u001b[01;31mprod/AFonly.gnomad.genomes.v3.1.2.sites.chr11.vcf.gz\u001b[0m\n",
      "\u001b[01;31mprod/AFonly.gnomad.genomes.v3.1.2.sites.chr12.vcf.gz\u001b[0m\n",
      "\u001b[01;31mprod/AFonly.gnomad.genomes.v3.1.2.sites.chr14.vcf.gz\u001b[0m\n",
      "\u001b[01;31mprod/AFonly.gnomad.genomes.v3.1.2.sites.chr16.vcf.gz\u001b[0m\n",
      "\u001b[01;31mprod/AFonly.gnomad.genomes.v3.1.2.sites.chr17.vcf.gz\u001b[0m\n",
      "\u001b[01;31mprod/AFonly.gnomad.genomes.v3.1.2.sites.chr20.vcf.gz\u001b[0m\n",
      "\u001b[01;31mprod/AFonly.gnomad.genomes.v3.1.2.sites.chr4.vcf.gz\u001b[0m\n",
      "\u001b[01;31mprod/AFonly.gnomad.genomes.v3.1.2.sites.chr9.vcf.gz\u001b[0m\n"
     ]
    }
   ],
   "source": [
    "ls prod/AFonly.gnomad.genomes.v3.1.2.sites.*.vcf.gz"
   ]
  },
  {
   "cell_type": "code",
   "execution_count": 17,
   "id": "601ad0e3-2e7d-4b76-9d34-7f0902d93e6e",
   "metadata": {
    "collapsed": true,
    "jupyter": {
     "outputs_hidden": true
    },
    "tags": []
   },
   "outputs": [
    {
     "name": "stdout",
     "output_type": "stream",
     "text": [
      "Using GATK jar /opt/datasci_apps/gatk-4.3.0.0/gatk-package-4.3.0.0-local.jar\n",
      "Running:\n",
      "    java -Dsamjdk.use_async_io_read_samtools=false -Dsamjdk.use_async_io_write_samtools=true -Dsamjdk.use_async_io_write_tribble=false -Dsamjdk.compression_level=2 -jar /opt/datasci_apps/gatk-4.3.0.0/gatk-package-4.3.0.0-local.jar IndexFeatureFile -I prod/AFonly.gnomad.genomes.v3.1.2.sites.chr10.vcf.gz --verbosity WARNING\n",
      "19:31:32.449 WARN  IntelInflater - Zero Bytes Written : 0\n",
      "[1 November, 2022 7:31:32 PM SGT] org.broadinstitute.hellbender.tools.IndexFeatureFile done. Elapsed time: 0.62 minutes.\n",
      "Runtime.totalMemory()=2562719744\n",
      "Tool returned:\n",
      "/hyperion/databank/booth/jmcarter/sub.gnomAD/prod/AFonly.gnomad.genomes.v3.1.2.sites.chr10.vcf.gz.tbi\n",
      "Using GATK jar /opt/datasci_apps/gatk-4.3.0.0/gatk-package-4.3.0.0-local.jar\n",
      "Running:\n",
      "    java -Dsamjdk.use_async_io_read_samtools=false -Dsamjdk.use_async_io_write_samtools=true -Dsamjdk.use_async_io_write_tribble=false -Dsamjdk.compression_level=2 -jar /opt/datasci_apps/gatk-4.3.0.0/gatk-package-4.3.0.0-local.jar IndexFeatureFile -I prod/AFonly.gnomad.genomes.v3.1.2.sites.chr11.vcf.gz --verbosity WARNING\n",
      "19:32:10.303 WARN  IntelInflater - Zero Bytes Written : 0\n",
      "[1 November, 2022 7:32:10 PM SGT] org.broadinstitute.hellbender.tools.IndexFeatureFile done. Elapsed time: 0.60 minutes.\n",
      "Runtime.totalMemory()=2585788416\n",
      "Tool returned:\n",
      "/hyperion/databank/booth/jmcarter/sub.gnomAD/prod/AFonly.gnomad.genomes.v3.1.2.sites.chr11.vcf.gz.tbi\n",
      "Using GATK jar /opt/datasci_apps/gatk-4.3.0.0/gatk-package-4.3.0.0-local.jar\n",
      "Running:\n",
      "    java -Dsamjdk.use_async_io_read_samtools=false -Dsamjdk.use_async_io_write_samtools=true -Dsamjdk.use_async_io_write_tribble=false -Dsamjdk.compression_level=2 -jar /opt/datasci_apps/gatk-4.3.0.0/gatk-package-4.3.0.0-local.jar IndexFeatureFile -I prod/AFonly.gnomad.genomes.v3.1.2.sites.chr12.vcf.gz --verbosity WARNING\n",
      "19:32:47.401 WARN  IntelInflater - Zero Bytes Written : 0\n",
      "[1 November, 2022 7:32:47 PM SGT] org.broadinstitute.hellbender.tools.IndexFeatureFile done. Elapsed time: 0.59 minutes.\n",
      "Runtime.totalMemory()=2544893952\n",
      "Tool returned:\n",
      "/hyperion/databank/booth/jmcarter/sub.gnomAD/prod/AFonly.gnomad.genomes.v3.1.2.sites.chr12.vcf.gz.tbi\n",
      "Using GATK jar /opt/datasci_apps/gatk-4.3.0.0/gatk-package-4.3.0.0-local.jar\n",
      "Running:\n",
      "    java -Dsamjdk.use_async_io_read_samtools=false -Dsamjdk.use_async_io_write_samtools=true -Dsamjdk.use_async_io_write_tribble=false -Dsamjdk.compression_level=2 -jar /opt/datasci_apps/gatk-4.3.0.0/gatk-package-4.3.0.0-local.jar IndexFeatureFile -I prod/AFonly.gnomad.genomes.v3.1.2.sites.chr14.vcf.gz --verbosity WARNING\n",
      "19:33:14.871 WARN  IntelInflater - Zero Bytes Written : 0\n",
      "[1 November, 2022 7:33:14 PM SGT] org.broadinstitute.hellbender.tools.IndexFeatureFile done. Elapsed time: 0.43 minutes.\n",
      "Runtime.totalMemory()=2571108352\n",
      "Tool returned:\n",
      "/hyperion/databank/booth/jmcarter/sub.gnomAD/prod/AFonly.gnomad.genomes.v3.1.2.sites.chr14.vcf.gz.tbi\n",
      "Using GATK jar /opt/datasci_apps/gatk-4.3.0.0/gatk-package-4.3.0.0-local.jar\n",
      "Running:\n",
      "    java -Dsamjdk.use_async_io_read_samtools=false -Dsamjdk.use_async_io_write_samtools=true -Dsamjdk.use_async_io_write_tribble=false -Dsamjdk.compression_level=2 -jar /opt/datasci_apps/gatk-4.3.0.0/gatk-package-4.3.0.0-local.jar IndexFeatureFile -I prod/AFonly.gnomad.genomes.v3.1.2.sites.chr16.vcf.gz --verbosity WARNING\n",
      "19:33:42.742 WARN  IntelInflater - Zero Bytes Written : 0\n",
      "[1 November, 2022 7:33:42 PM SGT] org.broadinstitute.hellbender.tools.IndexFeatureFile done. Elapsed time: 0.44 minutes.\n",
      "Runtime.totalMemory()=2379218944\n",
      "Tool returned:\n",
      "/hyperion/databank/booth/jmcarter/sub.gnomAD/prod/AFonly.gnomad.genomes.v3.1.2.sites.chr16.vcf.gz.tbi\n",
      "Using GATK jar /opt/datasci_apps/gatk-4.3.0.0/gatk-package-4.3.0.0-local.jar\n",
      "Running:\n",
      "    java -Dsamjdk.use_async_io_read_samtools=false -Dsamjdk.use_async_io_write_samtools=true -Dsamjdk.use_async_io_write_tribble=false -Dsamjdk.compression_level=2 -jar /opt/datasci_apps/gatk-4.3.0.0/gatk-package-4.3.0.0-local.jar IndexFeatureFile -I prod/AFonly.gnomad.genomes.v3.1.2.sites.chr17.vcf.gz --verbosity WARNING\n",
      "19:34:08.331 WARN  IntelInflater - Zero Bytes Written : 0\n",
      "[1 November, 2022 7:34:08 PM SGT] org.broadinstitute.hellbender.tools.IndexFeatureFile done. Elapsed time: 0.40 minutes.\n",
      "Runtime.totalMemory()=2575826944\n",
      "Tool returned:\n",
      "/hyperion/databank/booth/jmcarter/sub.gnomAD/prod/AFonly.gnomad.genomes.v3.1.2.sites.chr17.vcf.gz.tbi\n",
      "Using GATK jar /opt/datasci_apps/gatk-4.3.0.0/gatk-package-4.3.0.0-local.jar\n",
      "Running:\n",
      "    java -Dsamjdk.use_async_io_read_samtools=false -Dsamjdk.use_async_io_write_samtools=true -Dsamjdk.use_async_io_write_tribble=false -Dsamjdk.compression_level=2 -jar /opt/datasci_apps/gatk-4.3.0.0/gatk-package-4.3.0.0-local.jar IndexFeatureFile -I prod/AFonly.gnomad.genomes.v3.1.2.sites.chr20.vcf.gz --verbosity WARNING\n",
      "19:34:27.970 WARN  IntelInflater - Zero Bytes Written : 0\n",
      "[1 November, 2022 7:34:27 PM SGT] org.broadinstitute.hellbender.tools.IndexFeatureFile done. Elapsed time: 0.30 minutes.\n",
      "Runtime.totalMemory()=2550661120\n",
      "Tool returned:\n",
      "/hyperion/databank/booth/jmcarter/sub.gnomAD/prod/AFonly.gnomad.genomes.v3.1.2.sites.chr20.vcf.gz.tbi\n",
      "Using GATK jar /opt/datasci_apps/gatk-4.3.0.0/gatk-package-4.3.0.0-local.jar\n",
      "Running:\n",
      "    java -Dsamjdk.use_async_io_read_samtools=false -Dsamjdk.use_async_io_write_samtools=true -Dsamjdk.use_async_io_write_tribble=false -Dsamjdk.compression_level=2 -jar /opt/datasci_apps/gatk-4.3.0.0/gatk-package-4.3.0.0-local.jar IndexFeatureFile -I prod/AFonly.gnomad.genomes.v3.1.2.sites.chr4.vcf.gz --verbosity WARNING\n",
      "19:35:21.185 WARN  IntelInflater - Zero Bytes Written : 0\n",
      "[1 November, 2022 7:35:21 PM SGT] org.broadinstitute.hellbender.tools.IndexFeatureFile done. Elapsed time: 0.86 minutes.\n",
      "Runtime.totalMemory()=1907884032\n",
      "Tool returned:\n",
      "/hyperion/databank/booth/jmcarter/sub.gnomAD/prod/AFonly.gnomad.genomes.v3.1.2.sites.chr4.vcf.gz.tbi\n",
      "Using GATK jar /opt/datasci_apps/gatk-4.3.0.0/gatk-package-4.3.0.0-local.jar\n",
      "Running:\n",
      "    java -Dsamjdk.use_async_io_read_samtools=false -Dsamjdk.use_async_io_write_samtools=true -Dsamjdk.use_async_io_write_tribble=false -Dsamjdk.compression_level=2 -jar /opt/datasci_apps/gatk-4.3.0.0/gatk-package-4.3.0.0-local.jar IndexFeatureFile -I prod/AFonly.gnomad.genomes.v3.1.2.sites.chr9.vcf.gz --verbosity WARNING\n",
      "19:35:59.087 WARN  IntelInflater - Zero Bytes Written : 0\n",
      "[1 November, 2022 7:35:59 PM SGT] org.broadinstitute.hellbender.tools.IndexFeatureFile done. Elapsed time: 0.60 minutes.\n",
      "Runtime.totalMemory()=2650800128\n",
      "Tool returned:\n",
      "/hyperion/databank/booth/jmcarter/sub.gnomAD/prod/AFonly.gnomad.genomes.v3.1.2.sites.chr9.vcf.gz.tbi\n"
     ]
    }
   ],
   "source": [
    "for chr in prod/AFonly.gnomad.genomes.v3.1.2.sites.*.vcf.gz; do\n",
    "gatk IndexFeatureFile \\\n",
    "     -I $chr \\\n",
    "     --verbosity WARNING\n",
    "done"
   ]
  },
  {
   "cell_type": "code",
   "execution_count": 18,
   "id": "0245a130-b216-462d-b5fd-83dc09df6b9f",
   "metadata": {
    "tags": []
   },
   "outputs": [],
   "source": [
    "for chr in prod/AFonly.gnomad.genomes.v3.1.2.sites.*.vcf.gz; do\n",
    "echo $chr >> prod/AFonly.list\n",
    "done"
   ]
  },
  {
   "cell_type": "code",
   "execution_count": 19,
   "id": "7797b18d-96ff-47f9-b9f7-68f31b4a45d8",
   "metadata": {},
   "outputs": [
    {
     "name": "stdout",
     "output_type": "stream",
     "text": [
      "prod/AFonly.gnomad.genomes.v3.1.2.sites.chr10.vcf.gz\n",
      "prod/AFonly.gnomad.genomes.v3.1.2.sites.chr11.vcf.gz\n",
      "prod/AFonly.gnomad.genomes.v3.1.2.sites.chr12.vcf.gz\n",
      "prod/AFonly.gnomad.genomes.v3.1.2.sites.chr14.vcf.gz\n",
      "prod/AFonly.gnomad.genomes.v3.1.2.sites.chr16.vcf.gz\n",
      "prod/AFonly.gnomad.genomes.v3.1.2.sites.chr17.vcf.gz\n",
      "prod/AFonly.gnomad.genomes.v3.1.2.sites.chr20.vcf.gz\n",
      "prod/AFonly.gnomad.genomes.v3.1.2.sites.chr4.vcf.gz\n",
      "prod/AFonly.gnomad.genomes.v3.1.2.sites.chr9.vcf.gz\n"
     ]
    }
   ],
   "source": [
    "head prod/AFonly.list"
   ]
  },
  {
   "cell_type": "code",
   "execution_count": 20,
   "id": "aae2ff28-4263-4b05-a8c6-d201552e0656",
   "metadata": {
    "tags": []
   },
   "outputs": [
    {
     "name": "stdout",
     "output_type": "stream",
     "text": [
      "Using GATK jar /opt/datasci_apps/gatk-4.3.0.0/gatk-package-4.3.0.0-local.jar\n",
      "Running:\n",
      "    java -Dsamjdk.use_async_io_read_samtools=false -Dsamjdk.use_async_io_write_samtools=true -Dsamjdk.use_async_io_write_tribble=false -Dsamjdk.compression_level=2 -jar /opt/datasci_apps/gatk-4.3.0.0/gatk-package-4.3.0.0-local.jar MergeVcfs -I prod/AFonly.list -O prod/AFonly.gnomad.genomes.v3.1.2.sites.9X.vcf.gz --VERBOSITY WARNING\n",
      "19:40:46.699 INFO  NativeLibraryLoader - Loading libgkl_compression.so from jar:file:/opt/datasci_apps/gatk-4.3.0.0/gatk-package-4.3.0.0-local.jar!/com/intel/gkl/native/libgkl_compression.so\n",
      "[Tue Nov 01 19:40:46 SGT 2022] MergeVcfs --INPUT prod/AFonly.list --OUTPUT prod/AFonly.gnomad.genomes.v3.1.2.sites.9X.vcf.gz --VERBOSITY WARNING --QUIET false --VALIDATION_STRINGENCY STRICT --COMPRESSION_LEVEL 2 --MAX_RECORDS_IN_RAM 500000 --CREATE_INDEX true --CREATE_MD5_FILE false --GA4GH_CLIENT_SECRETS client_secrets.json --help false --version false --showHidden false --USE_JDK_DEFLATER false --USE_JDK_INFLATER false\n",
      "[Tue Nov 01 19:40:46 SGT 2022] Executing as jmcarter@odin on Linux 5.8.0-53-generic amd64; OpenJDK 64-Bit Server VM 1.8.0_112-b16; Deflater: Intel; Inflater: Intel; Provider GCS is available; Picard version: Version:4.3.0.0\n",
      "19:42:43.374 WARN  IntelInflater - Zero Bytes Written : 0\n",
      "19:44:00.619 WARN  IntelInflater - Zero Bytes Written : 0\n",
      "19:45:19.352 WARN  IntelInflater - Zero Bytes Written : 0\n",
      "19:46:35.244 WARN  IntelInflater - Zero Bytes Written : 0\n",
      "19:47:51.676 WARN  IntelInflater - Zero Bytes Written : 0\n",
      "19:48:42.953 WARN  IntelInflater - Zero Bytes Written : 0\n",
      "19:49:36.486 WARN  IntelInflater - Zero Bytes Written : 0\n",
      "19:50:23.765 WARN  IntelInflater - Zero Bytes Written : 0\n",
      "19:50:58.318 WARN  IntelInflater - Zero Bytes Written : 0\n",
      "[Tue Nov 01 19:50:58 SGT 2022] picard.vcf.MergeVcfs done. Elapsed time: 10.20 minutes.\n",
      "Runtime.totalMemory()=1022885888\n",
      "Tool returned:\n",
      "0\n"
     ]
    }
   ],
   "source": [
    "gatk MergeVcfs \\\n",
    "    -I prod/AFonly.list \\\n",
    "    -O prod/AFonly.gnomad.genomes.v3.1.2.sites.9X.vcf.gz \\\n",
    "    --VERBOSITY WARNING"
   ]
  },
  {
   "cell_type": "code",
   "execution_count": 21,
   "id": "34a528f4-65c6-4b09-8e6c-1675e3dad8d3",
   "metadata": {
    "tags": []
   },
   "outputs": [
    {
     "name": "stdout",
     "output_type": "stream",
     "text": [
      "\u001b[0m\u001b[01;31mprod/AFonly.gnomad.genomes.v3.1.2.sites.9X.vcf.gz\u001b[0m\n",
      "\u001b[01;31mprod/AFonly.gnomad.genomes.v3.1.2.sites.chr10.vcf.gz\u001b[0m\n",
      "\u001b[01;31mprod/AFonly.gnomad.genomes.v3.1.2.sites.chr11.vcf.gz\u001b[0m\n",
      "\u001b[01;31mprod/AFonly.gnomad.genomes.v3.1.2.sites.chr12.vcf.gz\u001b[0m\n",
      "\u001b[01;31mprod/AFonly.gnomad.genomes.v3.1.2.sites.chr14.vcf.gz\u001b[0m\n",
      "\u001b[01;31mprod/AFonly.gnomad.genomes.v3.1.2.sites.chr16.vcf.gz\u001b[0m\n",
      "\u001b[01;31mprod/AFonly.gnomad.genomes.v3.1.2.sites.chr17.vcf.gz\u001b[0m\n",
      "\u001b[01;31mprod/AFonly.gnomad.genomes.v3.1.2.sites.chr20.vcf.gz\u001b[0m\n",
      "\u001b[01;31mprod/AFonly.gnomad.genomes.v3.1.2.sites.chr4.vcf.gz\u001b[0m\n",
      "\u001b[01;31mprod/AFonly.gnomad.genomes.v3.1.2.sites.chr9.vcf.gz\u001b[0m\n"
     ]
    }
   ],
   "source": [
    "ls prod/AFonly.gnomad.genomes.v3.1.2.sites.*.vcf.gz"
   ]
  },
  {
   "cell_type": "code",
   "execution_count": 22,
   "id": "5a73b776-33d2-4594-a37b-52d1c3d34da6",
   "metadata": {
    "collapsed": true,
    "jupyter": {
     "outputs_hidden": true
    },
    "tags": []
   },
   "outputs": [
    {
     "name": "stdout",
     "output_type": "stream",
     "text": [
      "Using GATK jar /opt/datasci_apps/gatk-4.3.0.0/gatk-package-4.3.0.0-local.jar\n",
      "Running:\n",
      "    java -Dsamjdk.use_async_io_read_samtools=false -Dsamjdk.use_async_io_write_samtools=true -Dsamjdk.use_async_io_write_tribble=false -Dsamjdk.compression_level=2 -jar /opt/datasci_apps/gatk-4.3.0.0/gatk-package-4.3.0.0-local.jar SelectVariants -V prod/AFonly.gnomad.genomes.v3.1.2.sites.9X.vcf.gz -select-type SNP -restrict-alleles-to BIALLELIC -select AF > 0.01 -O prod/BAAFonly.gnomad.genomes.v3.1.2.sites.9X.vcf.gz --lenient --verbosity WARNING\n",
      "20:11:42.014 WARN  IntelInflater - Zero Bytes Written : 0\n",
      "[1 November, 2022 8:11:42 PM SGT] org.broadinstitute.hellbender.tools.walkers.variantutils.SelectVariants done. Elapsed time: 5.90 minutes.\n",
      "Runtime.totalMemory()=1243086848\n",
      "Using GATK jar /opt/datasci_apps/gatk-4.3.0.0/gatk-package-4.3.0.0-local.jar\n",
      "Running:\n",
      "    java -Dsamjdk.use_async_io_read_samtools=false -Dsamjdk.use_async_io_write_samtools=true -Dsamjdk.use_async_io_write_tribble=false -Dsamjdk.compression_level=2 -jar /opt/datasci_apps/gatk-4.3.0.0/gatk-package-4.3.0.0-local.jar SelectVariants -V prod/AFonly.gnomad.genomes.v3.1.2.sites.chr10.vcf.gz -select-type SNP -restrict-alleles-to BIALLELIC -select AF > 0.01 -O prod/BAAFonly.gnomad.genomes.v3.1.2.sites.chr10.vcf.gz --lenient --verbosity WARNING\n",
      "20:12:29.262 WARN  IntelInflater - Zero Bytes Written : 0\n",
      "[1 November, 2022 8:12:29 PM SGT] org.broadinstitute.hellbender.tools.walkers.variantutils.SelectVariants done. Elapsed time: 0.76 minutes.\n",
      "Runtime.totalMemory()=2022178816\n",
      "Using GATK jar /opt/datasci_apps/gatk-4.3.0.0/gatk-package-4.3.0.0-local.jar\n",
      "Running:\n",
      "    java -Dsamjdk.use_async_io_read_samtools=false -Dsamjdk.use_async_io_write_samtools=true -Dsamjdk.use_async_io_write_tribble=false -Dsamjdk.compression_level=2 -jar /opt/datasci_apps/gatk-4.3.0.0/gatk-package-4.3.0.0-local.jar SelectVariants -V prod/AFonly.gnomad.genomes.v3.1.2.sites.chr11.vcf.gz -select-type SNP -restrict-alleles-to BIALLELIC -select AF > 0.01 -O prod/BAAFonly.gnomad.genomes.v3.1.2.sites.chr11.vcf.gz --lenient --verbosity WARNING\n",
      "20:13:15.653 WARN  IntelInflater - Zero Bytes Written : 0\n",
      "[1 November, 2022 8:13:15 PM SGT] org.broadinstitute.hellbender.tools.walkers.variantutils.SelectVariants done. Elapsed time: 0.74 minutes.\n",
      "Runtime.totalMemory()=2403336192\n",
      "Using GATK jar /opt/datasci_apps/gatk-4.3.0.0/gatk-package-4.3.0.0-local.jar\n",
      "Running:\n",
      "    java -Dsamjdk.use_async_io_read_samtools=false -Dsamjdk.use_async_io_write_samtools=true -Dsamjdk.use_async_io_write_tribble=false -Dsamjdk.compression_level=2 -jar /opt/datasci_apps/gatk-4.3.0.0/gatk-package-4.3.0.0-local.jar SelectVariants -V prod/AFonly.gnomad.genomes.v3.1.2.sites.chr12.vcf.gz -select-type SNP -restrict-alleles-to BIALLELIC -select AF > 0.01 -O prod/BAAFonly.gnomad.genomes.v3.1.2.sites.chr12.vcf.gz --lenient --verbosity WARNING\n",
      "20:14:00.998 WARN  IntelInflater - Zero Bytes Written : 0\n",
      "[1 November, 2022 8:14:01 PM SGT] org.broadinstitute.hellbender.tools.walkers.variantutils.SelectVariants done. Elapsed time: 0.73 minutes.\n",
      "Runtime.totalMemory()=2092957696\n",
      "Using GATK jar /opt/datasci_apps/gatk-4.3.0.0/gatk-package-4.3.0.0-local.jar\n",
      "Running:\n",
      "    java -Dsamjdk.use_async_io_read_samtools=false -Dsamjdk.use_async_io_write_samtools=true -Dsamjdk.use_async_io_write_tribble=false -Dsamjdk.compression_level=2 -jar /opt/datasci_apps/gatk-4.3.0.0/gatk-package-4.3.0.0-local.jar SelectVariants -V prod/AFonly.gnomad.genomes.v3.1.2.sites.chr14.vcf.gz -select-type SNP -restrict-alleles-to BIALLELIC -select AF > 0.01 -O prod/BAAFonly.gnomad.genomes.v3.1.2.sites.chr14.vcf.gz --lenient --verbosity WARNING\n",
      "20:14:34.081 WARN  IntelInflater - Zero Bytes Written : 0\n",
      "[1 November, 2022 8:14:34 PM SGT] org.broadinstitute.hellbender.tools.walkers.variantutils.SelectVariants done. Elapsed time: 0.52 minutes.\n",
      "Runtime.totalMemory()=2509766656\n",
      "Using GATK jar /opt/datasci_apps/gatk-4.3.0.0/gatk-package-4.3.0.0-local.jar\n",
      "Running:\n",
      "    java -Dsamjdk.use_async_io_read_samtools=false -Dsamjdk.use_async_io_write_samtools=true -Dsamjdk.use_async_io_write_tribble=false -Dsamjdk.compression_level=2 -jar /opt/datasci_apps/gatk-4.3.0.0/gatk-package-4.3.0.0-local.jar SelectVariants -V prod/AFonly.gnomad.genomes.v3.1.2.sites.chr16.vcf.gz -select-type SNP -restrict-alleles-to BIALLELIC -select AF > 0.01 -O prod/BAAFonly.gnomad.genomes.v3.1.2.sites.chr16.vcf.gz --lenient --verbosity WARNING\n",
      "20:15:08.899 WARN  IntelInflater - Zero Bytes Written : 0\n",
      "[1 November, 2022 8:15:08 PM SGT] org.broadinstitute.hellbender.tools.walkers.variantutils.SelectVariants done. Elapsed time: 0.55 minutes.\n",
      "Runtime.totalMemory()=2615672832\n",
      "Using GATK jar /opt/datasci_apps/gatk-4.3.0.0/gatk-package-4.3.0.0-local.jar\n",
      "Running:\n",
      "    java -Dsamjdk.use_async_io_read_samtools=false -Dsamjdk.use_async_io_write_samtools=true -Dsamjdk.use_async_io_write_tribble=false -Dsamjdk.compression_level=2 -jar /opt/datasci_apps/gatk-4.3.0.0/gatk-package-4.3.0.0-local.jar SelectVariants -V prod/AFonly.gnomad.genomes.v3.1.2.sites.chr17.vcf.gz -select-type SNP -restrict-alleles-to BIALLELIC -select AF > 0.01 -O prod/BAAFonly.gnomad.genomes.v3.1.2.sites.chr17.vcf.gz --lenient --verbosity WARNING\n",
      "20:15:39.105 WARN  IntelInflater - Zero Bytes Written : 0\n",
      "[1 November, 2022 8:15:39 PM SGT] org.broadinstitute.hellbender.tools.walkers.variantutils.SelectVariants done. Elapsed time: 0.47 minutes.\n",
      "Runtime.totalMemory()=2662858752\n",
      "Using GATK jar /opt/datasci_apps/gatk-4.3.0.0/gatk-package-4.3.0.0-local.jar\n",
      "Running:\n",
      "    java -Dsamjdk.use_async_io_read_samtools=false -Dsamjdk.use_async_io_write_samtools=true -Dsamjdk.use_async_io_write_tribble=false -Dsamjdk.compression_level=2 -jar /opt/datasci_apps/gatk-4.3.0.0/gatk-package-4.3.0.0-local.jar SelectVariants -V prod/AFonly.gnomad.genomes.v3.1.2.sites.chr20.vcf.gz -select-type SNP -restrict-alleles-to BIALLELIC -select AF > 0.01 -O prod/BAAFonly.gnomad.genomes.v3.1.2.sites.chr20.vcf.gz --lenient --verbosity WARNING\n",
      "20:16:03.006 WARN  IntelInflater - Zero Bytes Written : 0\n",
      "[1 November, 2022 8:16:03 PM SGT] org.broadinstitute.hellbender.tools.walkers.variantutils.SelectVariants done. Elapsed time: 0.37 minutes.\n",
      "Runtime.totalMemory()=2496135168\n",
      "Using GATK jar /opt/datasci_apps/gatk-4.3.0.0/gatk-package-4.3.0.0-local.jar\n",
      "Running:\n",
      "    java -Dsamjdk.use_async_io_read_samtools=false -Dsamjdk.use_async_io_write_samtools=true -Dsamjdk.use_async_io_write_tribble=false -Dsamjdk.compression_level=2 -jar /opt/datasci_apps/gatk-4.3.0.0/gatk-package-4.3.0.0-local.jar SelectVariants -V prod/AFonly.gnomad.genomes.v3.1.2.sites.chr4.vcf.gz -select-type SNP -restrict-alleles-to BIALLELIC -select AF > 0.01 -O prod/BAAFonly.gnomad.genomes.v3.1.2.sites.chr4.vcf.gz --lenient --verbosity WARNING\n",
      "20:17:08.253 WARN  IntelInflater - Zero Bytes Written : 0\n",
      "[1 November, 2022 8:17:08 PM SGT] org.broadinstitute.hellbender.tools.walkers.variantutils.SelectVariants done. Elapsed time: 1.06 minutes.\n",
      "Runtime.totalMemory()=1501560832\n",
      "Using GATK jar /opt/datasci_apps/gatk-4.3.0.0/gatk-package-4.3.0.0-local.jar\n",
      "Running:\n",
      "    java -Dsamjdk.use_async_io_read_samtools=false -Dsamjdk.use_async_io_write_samtools=true -Dsamjdk.use_async_io_write_tribble=false -Dsamjdk.compression_level=2 -jar /opt/datasci_apps/gatk-4.3.0.0/gatk-package-4.3.0.0-local.jar SelectVariants -V prod/AFonly.gnomad.genomes.v3.1.2.sites.chr9.vcf.gz -select-type SNP -restrict-alleles-to BIALLELIC -select AF > 0.01 -O prod/BAAFonly.gnomad.genomes.v3.1.2.sites.chr9.vcf.gz --lenient --verbosity WARNING\n",
      "20:17:52.900 WARN  IntelInflater - Zero Bytes Written : 0\n",
      "[1 November, 2022 8:17:52 PM SGT] org.broadinstitute.hellbender.tools.walkers.variantutils.SelectVariants done. Elapsed time: 0.71 minutes.\n",
      "Runtime.totalMemory()=2610954240\n"
     ]
    }
   ],
   "source": [
    "for chr in prod/AFonly.gnomad.genomes.v3.1.2.sites.*.vcf.gz; do\n",
    "name=\"$(basename -- $chr)\"\n",
    "gatk SelectVariants \\\n",
    "    -V $chr \\\n",
    "    -select-type SNP -restrict-alleles-to BIALLELIC \\\n",
    "    -select \"AF > 0.01\" \\\n",
    "    -O \"prod/BA${name}\" \\\n",
    "    --lenient --verbosity WARNING\n",
    "done"
   ]
  },
  {
   "cell_type": "code",
   "execution_count": 1,
   "id": "922eb7ed-a3b4-46cc-8a02-40888ede445b",
   "metadata": {
    "collapsed": true,
    "jupyter": {
     "outputs_hidden": true
    },
    "tags": []
   },
   "outputs": [
    {
     "name": "stdout",
     "output_type": "stream",
     "text": [
      "Using GATK jar /opt/datasci_apps/gatk-4.3.0.0/gatk-package-4.3.0.0-local.jar\n",
      "Running:\n",
      "    java -Dsamjdk.use_async_io_read_samtools=false -Dsamjdk.use_async_io_write_samtools=true -Dsamjdk.use_async_io_write_tribble=false -Dsamjdk.compression_level=2 -jar /opt/datasci_apps/gatk-4.3.0.0/gatk-package-4.3.0.0-local.jar IndexFeatureFile -I prod/AFonly.gnomad.genomes.v3.1.2.sites.chr14.vcf.bgz --verbosity WARNING\n",
      "18:03:47.371 WARN  IntelInflater - Zero Bytes Written : 0\n",
      "[27 October, 2022 6:03:47 PM SGT] org.broadinstitute.hellbender.tools.IndexFeatureFile done. Elapsed time: 0.43 minutes.\n",
      "Runtime.totalMemory()=2529165312\n",
      "Tool returned:\n",
      "/hyperion/databank/booth/jmcarter/sub.gnomAD/prod/AFonly.gnomad.genomes.v3.1.2.sites.chr14.vcf.bgz.tbi\n"
     ]
    }
   ],
   "source": [
    "#gatk IndexFeatureFile \\\n",
    "#     -I prod/AFonly.gnomad.genomes.v3.1.2.sites.chr14.vcf.bgz \\\n",
    "#     --verbosity WARNING"
   ]
  },
  {
   "cell_type": "code",
   "execution_count": 2,
   "id": "1ad69b03-7e55-4d04-972c-f2b5b396a150",
   "metadata": {
    "collapsed": true,
    "jupyter": {
     "outputs_hidden": true
    },
    "tags": []
   },
   "outputs": [
    {
     "name": "stdout",
     "output_type": "stream",
     "text": [
      "Using GATK jar /opt/datasci_apps/gatk-4.3.0.0/gatk-package-4.3.0.0-local.jar\n",
      "Running:\n",
      "    java -Dsamjdk.use_async_io_read_samtools=false -Dsamjdk.use_async_io_write_samtools=true -Dsamjdk.use_async_io_write_tribble=false -Dsamjdk.compression_level=2 -jar /opt/datasci_apps/gatk-4.3.0.0/gatk-package-4.3.0.0-local.jar SelectVariants -V prod/AFonly.gnomad.genomes.v3.1.2.sites.chr14.vcf.bgz -select-type SNP -restrict-alleles-to BIALLELIC -select AF > 0.01 -O prod/BAonly.gnomad.genomes.v3.1.2.sites.chr14.vcf.gz --lenient --verbosity WARNING\n",
      "18:04:40.920 WARN  IntelInflater - Zero Bytes Written : 0\n",
      "[27 October, 2022 6:04:40 PM SGT] org.broadinstitute.hellbender.tools.walkers.variantutils.SelectVariants done. Elapsed time: 0.51 minutes.\n",
      "Runtime.totalMemory()=2612002816\n"
     ]
    }
   ],
   "source": [
    "#gatk SelectVariants \\\n",
    "#    -V prod/AFonly.gnomad.genomes.v3.1.2.sites.chr14.vcf.bgz \\\n",
    "#    -select-type SNP -restrict-alleles-to BIALLELIC \\\n",
    "#    -select \"AF > 0.01\" \\\n",
    "#    -O prod/BAonly.gnomad.genomes.v3.1.2.sites.chr14.vcf.gz \\\n",
    "#    --lenient --verbosity WARNING"
   ]
  },
  {
   "cell_type": "code",
   "execution_count": null,
   "id": "364206e2-f557-4a8f-abfa-351507dd9f9c",
   "metadata": {},
   "outputs": [],
   "source": []
  }
 ],
 "metadata": {
  "kernelspec": {
   "display_name": "Bash [conda env:gatk]",
   "language": "bash",
   "name": "conda-env-gatk-bash"
  },
  "language_info": {
   "codemirror_mode": "shell",
   "file_extension": ".sh",
   "mimetype": "text/x-sh",
   "name": "bash"
  }
 },
 "nbformat": 4,
 "nbformat_minor": 5
}
